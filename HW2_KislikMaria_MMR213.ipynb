{
 "cells": [
  {
   "cell_type": "markdown",
   "id": "3b28bddd",
   "metadata": {},
   "source": [
    "## *Кислик Мария, ММР213*"
   ]
  },
  {
   "cell_type": "markdown",
   "id": "6c88194a",
   "metadata": {},
   "source": [
    "## Введение"
   ]
  },
  {
   "cell_type": "markdown",
   "id": "e8a8d9e4",
   "metadata": {},
   "source": [
    "Датасет содержит данные о гостях отеля в Лиссабоне. Мы будем анализировать, как различные факторы влияют на размер суммарных расходов гостей. Суммарные расходы будут рассчитаны как сумма стандартных расходов (стоимость номера, наличие кроватки в номере и т.д.) и дополнительных расходов (еда, напитки, СПА и т.д.)."
   ]
  },
  {
   "cell_type": "markdown",
   "id": "3f1a8744",
   "metadata": {},
   "source": [
    "## Описание переменных"
   ]
  },
  {
   "cell_type": "markdown",
   "id": "fc54950e",
   "metadata": {},
   "source": [
    "*Количественные и категориальные переменные:*\n",
    "- **Age** -\tCustomer's age (in years) at the last day of the extraction period\n",
    "- **DaysSinceCreation** - Number of days since the customer record was created (number of days elapsed between the creation date and the last day of the extraction period)\n",
    "- **AverageLeadTime** -\tThe average number of days elapsed between the customer's booking date and arrival date. In other words, this variable is calculated by dividing the sum of the number of days elapsed between the moment each booking was made and its arrival date, by the total of bookings made by the customer\n",
    "- **LodgingRevenue**\t-\tTotal amount spent on lodging expenses by the customer (in Euros). This value includes room, crib, and other related lodging expenses\n",
    "- **OtherRevenue**\t-\tTotal amount spent on other expenses by the customer (in Euros). This value includes food, beverage, spa, and other expenses\n",
    "- **BookingsCanceled** -\tNumber of bookings the customer made but subsequently canceled (the costumer informed the hotel he/she would not come to stay)\n",
    "- **BookingsNoShowed** -\tNumber of bookings the customer made but subsequently made a “no-show” (did not cancel, but did not check-in to stay at the hotel)\n",
    "- **BookingsCheckedIn** -\tNumber of bookings the customer made, and which end up with a staying\n",
    "- **RoomNights**\t- Total of room/nights the customer stayed at the hotel (checked-in bookings). Room/nights are the multiplication of the number of rooms of each booking by the number of nights of the booking\n",
    "- **DistributionChannel** -\tDistribution channel usually used by the customer to make bookings at the hotel *(categorical variable)*\n",
    "- **MarketSegment** -\tCurrent market segment of the customer *(categorical variable)*"
   ]
  },
  {
   "cell_type": "markdown",
   "id": "0142482e",
   "metadata": {},
   "source": [
    "*Бинарные переменные:*\n",
    "- **SRBathtub**\t-\tIndication if the customer usually asks for a room with a bathtub (0: No, 1: Yes)\n",
    "- **SRShower**\t-\tIndication if the customer usually asks for a room with a shower (0: No, 1: Yes)\n",
    "- **SRCrib**\t-\tIndication if the customer usually asks for a crib (0: No, 1: Yes)\n",
    "- **SRKingSizeBed**\t-\tIndication if the customer usually asks for a room with a king-size bed (0: No, 1: Yes)\n",
    "- **SRTwinBed**\t-\tIndication if the customer usually asks for a room with a twin bed (0: No, 1: Yes)"
   ]
  },
  {
   "cell_type": "markdown",
   "id": "c2fde64a",
   "metadata": {},
   "source": [
    "В данных также присутствовали переменные, которые не пригодятся для анализа (например, номер ID покупателя), поэтому они не присутствуют в описании переменных и будут удалены."
   ]
  },
  {
   "cell_type": "code",
   "execution_count": 1,
   "id": "6816d562",
   "metadata": {},
   "outputs": [],
   "source": [
    "import pandas as pd\n",
    "import numpy as np\n",
    "import seaborn as sns\n",
    "import matplotlib.pyplot as plt\n",
    "\n",
    "# уберем предупреждения\n",
    "import warnings\n",
    "warnings.filterwarnings('ignore')"
   ]
  },
  {
   "cell_type": "code",
   "execution_count": 2,
   "id": "f3c945a5",
   "metadata": {},
   "outputs": [],
   "source": [
    "df = pd.read_excel('HotelCustomersDataset.xlsx')"
   ]
  },
  {
   "cell_type": "code",
   "execution_count": 3,
   "id": "bb0dd8cb",
   "metadata": {
    "scrolled": true
   },
   "outputs": [
    {
     "data": {
      "text/html": [
       "<div>\n",
       "<style scoped>\n",
       "    .dataframe tbody tr th:only-of-type {\n",
       "        vertical-align: middle;\n",
       "    }\n",
       "\n",
       "    .dataframe tbody tr th {\n",
       "        vertical-align: top;\n",
       "    }\n",
       "\n",
       "    .dataframe thead th {\n",
       "        text-align: right;\n",
       "    }\n",
       "</style>\n",
       "<table border=\"1\" class=\"dataframe\">\n",
       "  <thead>\n",
       "    <tr style=\"text-align: right;\">\n",
       "      <th></th>\n",
       "      <th>ID</th>\n",
       "      <th>Nationality</th>\n",
       "      <th>Age</th>\n",
       "      <th>DaysSinceCreation</th>\n",
       "      <th>NameHash</th>\n",
       "      <th>DocIDHash</th>\n",
       "      <th>AverageLeadTime</th>\n",
       "      <th>LodgingRevenue</th>\n",
       "      <th>OtherRevenue</th>\n",
       "      <th>BookingsCanceled</th>\n",
       "      <th>...</th>\n",
       "      <th>SRMediumFloor</th>\n",
       "      <th>SRBathtub</th>\n",
       "      <th>SRShower</th>\n",
       "      <th>SRCrib</th>\n",
       "      <th>SRKingSizeBed</th>\n",
       "      <th>SRTwinBed</th>\n",
       "      <th>SRNearElevator</th>\n",
       "      <th>SRAwayFromElevator</th>\n",
       "      <th>SRNoAlcoholInMiniBar</th>\n",
       "      <th>SRQuietRoom</th>\n",
       "    </tr>\n",
       "  </thead>\n",
       "  <tbody>\n",
       "    <tr>\n",
       "      <th>0</th>\n",
       "      <td>1</td>\n",
       "      <td>PRT</td>\n",
       "      <td>51.0</td>\n",
       "      <td>150</td>\n",
       "      <td>0x8E0A7AF39B633D5EA25C3B7EF4DFC5464B36DB7AF375...</td>\n",
       "      <td>0x71568459B729F7A7ABBED6C781A84CA4274D571003AC...</td>\n",
       "      <td>45</td>\n",
       "      <td>371.0</td>\n",
       "      <td>105.3</td>\n",
       "      <td>1</td>\n",
       "      <td>...</td>\n",
       "      <td>0</td>\n",
       "      <td>0</td>\n",
       "      <td>0</td>\n",
       "      <td>0</td>\n",
       "      <td>0</td>\n",
       "      <td>0</td>\n",
       "      <td>0</td>\n",
       "      <td>0</td>\n",
       "      <td>0</td>\n",
       "      <td>0</td>\n",
       "    </tr>\n",
       "    <tr>\n",
       "      <th>1</th>\n",
       "      <td>2</td>\n",
       "      <td>PRT</td>\n",
       "      <td>NaN</td>\n",
       "      <td>1095</td>\n",
       "      <td>0x21EDE41906B45079E75385B5AA33287CA09DE1AB86DE...</td>\n",
       "      <td>0x5FA1E0098A31497057C5A6B9FE9D49FD6DD47CCE7C26...</td>\n",
       "      <td>61</td>\n",
       "      <td>280.0</td>\n",
       "      <td>53.0</td>\n",
       "      <td>0</td>\n",
       "      <td>...</td>\n",
       "      <td>0</td>\n",
       "      <td>0</td>\n",
       "      <td>0</td>\n",
       "      <td>0</td>\n",
       "      <td>0</td>\n",
       "      <td>0</td>\n",
       "      <td>0</td>\n",
       "      <td>0</td>\n",
       "      <td>0</td>\n",
       "      <td>0</td>\n",
       "    </tr>\n",
       "    <tr>\n",
       "      <th>2</th>\n",
       "      <td>3</td>\n",
       "      <td>DEU</td>\n",
       "      <td>31.0</td>\n",
       "      <td>1095</td>\n",
       "      <td>0x31C5E4B74E23231295FDB724AD578C02C4A723F4BA2B...</td>\n",
       "      <td>0xC7CF344F5B03295037595B1337AC905CA188F1B5B3A5...</td>\n",
       "      <td>0</td>\n",
       "      <td>0.0</td>\n",
       "      <td>0.0</td>\n",
       "      <td>0</td>\n",
       "      <td>...</td>\n",
       "      <td>0</td>\n",
       "      <td>0</td>\n",
       "      <td>0</td>\n",
       "      <td>0</td>\n",
       "      <td>0</td>\n",
       "      <td>0</td>\n",
       "      <td>0</td>\n",
       "      <td>0</td>\n",
       "      <td>0</td>\n",
       "      <td>0</td>\n",
       "    </tr>\n",
       "    <tr>\n",
       "      <th>3</th>\n",
       "      <td>4</td>\n",
       "      <td>FRA</td>\n",
       "      <td>60.0</td>\n",
       "      <td>1095</td>\n",
       "      <td>0xFF534C83C0EF23D1CE516BC80A65D0197003D27937D4...</td>\n",
       "      <td>0xBD3823A9B4EC35D6CAF4B27AE423A677C0200DB61E82...</td>\n",
       "      <td>93</td>\n",
       "      <td>240.0</td>\n",
       "      <td>60.0</td>\n",
       "      <td>0</td>\n",
       "      <td>...</td>\n",
       "      <td>0</td>\n",
       "      <td>0</td>\n",
       "      <td>0</td>\n",
       "      <td>0</td>\n",
       "      <td>0</td>\n",
       "      <td>0</td>\n",
       "      <td>0</td>\n",
       "      <td>0</td>\n",
       "      <td>0</td>\n",
       "      <td>0</td>\n",
       "    </tr>\n",
       "    <tr>\n",
       "      <th>4</th>\n",
       "      <td>5</td>\n",
       "      <td>FRA</td>\n",
       "      <td>51.0</td>\n",
       "      <td>1095</td>\n",
       "      <td>0x9C1DEF02C9BE242842C1C1ABF2C5AA249A1EEB4763B4...</td>\n",
       "      <td>0xE175754CF77247B202DD0820F49407C762C14A603B3A...</td>\n",
       "      <td>0</td>\n",
       "      <td>0.0</td>\n",
       "      <td>0.0</td>\n",
       "      <td>0</td>\n",
       "      <td>...</td>\n",
       "      <td>0</td>\n",
       "      <td>0</td>\n",
       "      <td>0</td>\n",
       "      <td>0</td>\n",
       "      <td>0</td>\n",
       "      <td>0</td>\n",
       "      <td>0</td>\n",
       "      <td>0</td>\n",
       "      <td>0</td>\n",
       "      <td>0</td>\n",
       "    </tr>\n",
       "  </tbody>\n",
       "</table>\n",
       "<p>5 rows × 31 columns</p>\n",
       "</div>"
      ],
      "text/plain": [
       "   ID Nationality   Age  DaysSinceCreation  \\\n",
       "0   1         PRT  51.0                150   \n",
       "1   2         PRT   NaN               1095   \n",
       "2   3         DEU  31.0               1095   \n",
       "3   4         FRA  60.0               1095   \n",
       "4   5         FRA  51.0               1095   \n",
       "\n",
       "                                            NameHash  \\\n",
       "0  0x8E0A7AF39B633D5EA25C3B7EF4DFC5464B36DB7AF375...   \n",
       "1  0x21EDE41906B45079E75385B5AA33287CA09DE1AB86DE...   \n",
       "2  0x31C5E4B74E23231295FDB724AD578C02C4A723F4BA2B...   \n",
       "3  0xFF534C83C0EF23D1CE516BC80A65D0197003D27937D4...   \n",
       "4  0x9C1DEF02C9BE242842C1C1ABF2C5AA249A1EEB4763B4...   \n",
       "\n",
       "                                           DocIDHash  AverageLeadTime  \\\n",
       "0  0x71568459B729F7A7ABBED6C781A84CA4274D571003AC...               45   \n",
       "1  0x5FA1E0098A31497057C5A6B9FE9D49FD6DD47CCE7C26...               61   \n",
       "2  0xC7CF344F5B03295037595B1337AC905CA188F1B5B3A5...                0   \n",
       "3  0xBD3823A9B4EC35D6CAF4B27AE423A677C0200DB61E82...               93   \n",
       "4  0xE175754CF77247B202DD0820F49407C762C14A603B3A...                0   \n",
       "\n",
       "   LodgingRevenue  OtherRevenue  BookingsCanceled  ...  SRMediumFloor  \\\n",
       "0           371.0         105.3                 1  ...              0   \n",
       "1           280.0          53.0                 0  ...              0   \n",
       "2             0.0           0.0                 0  ...              0   \n",
       "3           240.0          60.0                 0  ...              0   \n",
       "4             0.0           0.0                 0  ...              0   \n",
       "\n",
       "   SRBathtub  SRShower  SRCrib  SRKingSizeBed  SRTwinBed SRNearElevator  \\\n",
       "0          0         0       0              0          0              0   \n",
       "1          0         0       0              0          0              0   \n",
       "2          0         0       0              0          0              0   \n",
       "3          0         0       0              0          0              0   \n",
       "4          0         0       0              0          0              0   \n",
       "\n",
       "  SRAwayFromElevator  SRNoAlcoholInMiniBar  SRQuietRoom  \n",
       "0                  0                     0            0  \n",
       "1                  0                     0            0  \n",
       "2                  0                     0            0  \n",
       "3                  0                     0            0  \n",
       "4                  0                     0            0  \n",
       "\n",
       "[5 rows x 31 columns]"
      ]
     },
     "execution_count": 3,
     "metadata": {},
     "output_type": "execute_result"
    }
   ],
   "source": [
    "df.head()"
   ]
  },
  {
   "cell_type": "markdown",
   "id": "c4a820aa",
   "metadata": {},
   "source": [
    "## 1. Первичная работа с данными"
   ]
  },
  {
   "cell_type": "markdown",
   "id": "d5ea45dd",
   "metadata": {},
   "source": [
    "### 1.1. Очистка данных"
   ]
  },
  {
   "cell_type": "markdown",
   "id": "fb647417",
   "metadata": {},
   "source": [
    "Удаляем переменные, которые не понадобятся для анализа."
   ]
  },
  {
   "cell_type": "code",
   "execution_count": 4,
   "id": "03565faa",
   "metadata": {},
   "outputs": [],
   "source": [
    "del df['ID'] # Customer ID\n",
    "del df['NameHash'] # Name of the customer's SHA2–256 hash string\n",
    "del df['DocIDHash'] # SHA2–256 hash-string of the identification document number the customer provided at check-in\n",
    "del df['DaysSinceFirstStay'] # The number of days elapsed between the last day of the extraction and the customer's first arrival date\n",
    "del df['DaysSinceLastStay'] # The number of days elapsed between the last day of the extraction and the customer's last arrival date\n",
    "del df['Nationality'] # Country of origin (categorical variable), не используем в анализе, т.к. эту переменную очень проблематично адаптировать для регрессии"
   ]
  },
  {
   "cell_type": "markdown",
   "id": "b9778344",
   "metadata": {},
   "source": [
    "Помимо этого, было принято решение удалить некоторые бинарные переменные, которые обычно **не влияют на цену номера и не требуют дополнительных затрат (т.е. не влияют на стандартные/доп. расходы гостей)** => данные переменные не представляют интерес для данного исследования."
   ]
  },
  {
   "cell_type": "code",
   "execution_count": 5,
   "id": "be4723c3",
   "metadata": {},
   "outputs": [],
   "source": [
    "del df['SRAccessibleRoom'] # Indication if the customer usually asks for an accessible room (0: No, 1: Yes)\n",
    "del df['SRHighFloor'] # Indication if the customer usually asks for a room on a higher floor (0: No, 1: Yes)\n",
    "del df['SRLowFloor'] # Indication if the customer usually asks for a room on a lower floor (0: No, 1: Yes)\n",
    "del df['SRMediumFloor'] # Indication if the customer usually asks for a room on a medium floor (0: No, 1: Yes)\n",
    "del df['SRNearElevator'] # Indication if the customer usually asks for a room near the elevator (0: No, 1: Yes)\n",
    "del df['SRAwayFromElevator'] # Indication if the customer usually asks for a room away from the elevator (0: No, 1: Yes)\n",
    "del df['SRQuietRoom'] # Indication if the customer usually asks for a room away from the noise (0: No, 1: Yes)"
   ]
  },
  {
   "cell_type": "markdown",
   "id": "75c889f7",
   "metadata": {},
   "source": [
    "Также придется удалить переменную **PersonsNights**, которая не несет никакой смысловой нагрузки, поскольку вычисляется как произведение всех ночей (сумма ночей по всем букингам) и числа людей в номере."
   ]
  },
  {
   "cell_type": "code",
   "execution_count": 6,
   "id": "85aa80f2",
   "metadata": {},
   "outputs": [],
   "source": [
    "del df['PersonsNights']\n",
    "# Описание переменной:\n",
    "# The total number of persons/nights that the costumer stayed at the hotel. \n",
    "# This value is calculated by summing all customers checked-in bookings’ persons/nights. \n",
    "# Person/nights of each booking is the result of the multiplication of the number of staying nights by the sum of adults and children"
   ]
  },
  {
   "cell_type": "markdown",
   "id": "790a185a",
   "metadata": {},
   "source": [
    "Однако было решено оставить подобную предыдущей переменную **RoomNights**, которая вычисляется как произведение числа забронированных комнат при каждом букинге и числа проведенных в номере ночей. Можно предположить, что при одном бронировании человек обычно заказывает один номер, поэтому данная переменная означает суммарное количество ночей за все букинги. Поэтому в дальнейшем эта переменная будет интерпретироваться как **общее число забронированных ночей за время существования аккаунта пользователя**."
   ]
  },
  {
   "cell_type": "markdown",
   "id": "8c5e8e5a",
   "metadata": {},
   "source": [
    "Посмотрим на значения этой переменной."
   ]
  },
  {
   "cell_type": "code",
   "execution_count": 7,
   "id": "e91d118a",
   "metadata": {
    "scrolled": true
   },
   "outputs": [
    {
     "data": {
      "text/plain": [
       "0      19920\n",
       "3      17149\n",
       "2      14115\n",
       "1      11381\n",
       "4      11158\n",
       "5       5050\n",
       "7       1937\n",
       "6       1853\n",
       "8        372\n",
       "9        198\n",
       "10       153\n",
       "11        69\n",
       "12        52\n",
       "14        41\n",
       "15        31\n",
       "13        23\n",
       "16        11\n",
       "19        10\n",
       "17         8\n",
       "21         7\n",
       "26         6\n",
       "18         6\n",
       "22         6\n",
       "24         3\n",
       "30         3\n",
       "20         2\n",
       "29         2\n",
       "23         2\n",
       "31         2\n",
       "27         2\n",
       "35         1\n",
       "40         1\n",
       "38         1\n",
       "59         1\n",
       "42         1\n",
       "25         1\n",
       "28         1\n",
       "95         1\n",
       "51         1\n",
       "185        1\n",
       "49         1\n",
       "34         1\n",
       "33         1\n",
       "116        1\n",
       "37         1\n",
       "66         1\n",
       "88         1\n",
       "36         1\n",
       "Name: RoomNights, dtype: int64"
      ]
     },
     "execution_count": 7,
     "metadata": {},
     "output_type": "execute_result"
    }
   ],
   "source": [
    "df.RoomNights.value_counts()"
   ]
  },
  {
   "cell_type": "markdown",
   "id": "718752ab",
   "metadata": {},
   "source": [
    "Мы видим, что в данных есть 19990 пользователей, которые не забронировали ни одного номера за время существования их аккаунта. Удалим эти наблюдения, поскольку нас интересуют люди, которые пользовались услугами отеля хотя бы один раз за время существования их аккаунта."
   ]
  },
  {
   "cell_type": "code",
   "execution_count": 8,
   "id": "06736f8a",
   "metadata": {},
   "outputs": [],
   "source": [
    "df = df[df.RoomNights != 0]"
   ]
  },
  {
   "cell_type": "markdown",
   "id": "41abf021",
   "metadata": {},
   "source": [
    "Также проверим наличие людей с нулевыми стандартными расходами (LodgingRevenue = 0)."
   ]
  },
  {
   "cell_type": "code",
   "execution_count": 9,
   "id": "fbbbd606",
   "metadata": {},
   "outputs": [
    {
     "data": {
      "text/plain": [
       "126.00    636\n",
       "234.00    591\n",
       "249.00    507\n",
       "0.00      488\n",
       "89.00     371\n",
       "         ... \n",
       "779.40      1\n",
       "293.73      1\n",
       "364.30      1\n",
       "55.35       1\n",
       "981.30      1\n",
       "Name: LodgingRevenue, Length: 10257, dtype: int64"
      ]
     },
     "execution_count": 9,
     "metadata": {},
     "output_type": "execute_result"
    }
   ],
   "source": [
    "df.LodgingRevenue.value_counts()"
   ]
  },
  {
   "cell_type": "markdown",
   "id": "7dcfbe3a",
   "metadata": {},
   "source": [
    "Удалим наблюдения по этим людям, т.к. они не представляют интереса для анализа."
   ]
  },
  {
   "cell_type": "code",
   "execution_count": 10,
   "id": "f87da2ae",
   "metadata": {},
   "outputs": [],
   "source": [
    "df = df[df.LodgingRevenue > 0]"
   ]
  },
  {
   "cell_type": "markdown",
   "id": "95c5beee",
   "metadata": {},
   "source": [
    "### 1.2. Работа с пропусками"
   ]
  },
  {
   "cell_type": "markdown",
   "id": "4e50dc9b",
   "metadata": {},
   "source": [
    "Проверим датасет на наличие пропусков."
   ]
  },
  {
   "cell_type": "code",
   "execution_count": 11,
   "id": "e3d69b8e",
   "metadata": {
    "scrolled": true
   },
   "outputs": [
    {
     "data": {
      "text/plain": [
       "Age                     2802\n",
       "DaysSinceCreation          0\n",
       "AverageLeadTime            0\n",
       "LodgingRevenue             0\n",
       "OtherRevenue               0\n",
       "BookingsCanceled           0\n",
       "BookingsNoShowed           0\n",
       "BookingsCheckedIn          0\n",
       "RoomNights                 0\n",
       "DistributionChannel        0\n",
       "MarketSegment              0\n",
       "SRBathtub                  0\n",
       "SRShower                   0\n",
       "SRCrib                     0\n",
       "SRKingSizeBed              0\n",
       "SRTwinBed                  0\n",
       "SRNoAlcoholInMiniBar       0\n",
       "dtype: int64"
      ]
     },
     "execution_count": 11,
     "metadata": {},
     "output_type": "execute_result"
    }
   ],
   "source": [
    "df.isna().sum()"
   ]
  },
  {
   "cell_type": "markdown",
   "id": "9327c13d",
   "metadata": {},
   "source": [
    "Как мы можем видеть, в переменной Age присутствует **2802 пропуска**. Заменим их средним значением переменной Age и перезапишем эту переменную."
   ]
  },
  {
   "cell_type": "code",
   "execution_count": 12,
   "id": "628adcc1",
   "metadata": {},
   "outputs": [],
   "source": [
    "df['Age'] = df['Age'].fillna(df['Age'].mean())"
   ]
  },
  {
   "cell_type": "code",
   "execution_count": 13,
   "id": "207430e2",
   "metadata": {},
   "outputs": [
    {
     "data": {
      "text/html": [
       "<div>\n",
       "<style scoped>\n",
       "    .dataframe tbody tr th:only-of-type {\n",
       "        vertical-align: middle;\n",
       "    }\n",
       "\n",
       "    .dataframe tbody tr th {\n",
       "        vertical-align: top;\n",
       "    }\n",
       "\n",
       "    .dataframe thead th {\n",
       "        text-align: right;\n",
       "    }\n",
       "</style>\n",
       "<table border=\"1\" class=\"dataframe\">\n",
       "  <thead>\n",
       "    <tr style=\"text-align: right;\">\n",
       "      <th></th>\n",
       "      <th>Age</th>\n",
       "      <th>DaysSinceCreation</th>\n",
       "      <th>AverageLeadTime</th>\n",
       "      <th>LodgingRevenue</th>\n",
       "      <th>OtherRevenue</th>\n",
       "      <th>BookingsCanceled</th>\n",
       "      <th>BookingsNoShowed</th>\n",
       "      <th>BookingsCheckedIn</th>\n",
       "      <th>RoomNights</th>\n",
       "      <th>DistributionChannel</th>\n",
       "      <th>MarketSegment</th>\n",
       "      <th>SRBathtub</th>\n",
       "      <th>SRShower</th>\n",
       "      <th>SRCrib</th>\n",
       "      <th>SRKingSizeBed</th>\n",
       "      <th>SRTwinBed</th>\n",
       "      <th>SRNoAlcoholInMiniBar</th>\n",
       "    </tr>\n",
       "  </thead>\n",
       "  <tbody>\n",
       "    <tr>\n",
       "      <th>0</th>\n",
       "      <td>51.000000</td>\n",
       "      <td>150</td>\n",
       "      <td>45</td>\n",
       "      <td>371.0</td>\n",
       "      <td>105.3</td>\n",
       "      <td>1</td>\n",
       "      <td>0</td>\n",
       "      <td>3</td>\n",
       "      <td>5</td>\n",
       "      <td>Corporate</td>\n",
       "      <td>Corporate</td>\n",
       "      <td>0</td>\n",
       "      <td>0</td>\n",
       "      <td>0</td>\n",
       "      <td>0</td>\n",
       "      <td>0</td>\n",
       "      <td>0</td>\n",
       "    </tr>\n",
       "    <tr>\n",
       "      <th>1</th>\n",
       "      <td>47.292878</td>\n",
       "      <td>1095</td>\n",
       "      <td>61</td>\n",
       "      <td>280.0</td>\n",
       "      <td>53.0</td>\n",
       "      <td>0</td>\n",
       "      <td>0</td>\n",
       "      <td>1</td>\n",
       "      <td>5</td>\n",
       "      <td>Travel Agent/Operator</td>\n",
       "      <td>Travel Agent/Operator</td>\n",
       "      <td>0</td>\n",
       "      <td>0</td>\n",
       "      <td>0</td>\n",
       "      <td>0</td>\n",
       "      <td>0</td>\n",
       "      <td>0</td>\n",
       "    </tr>\n",
       "    <tr>\n",
       "      <th>3</th>\n",
       "      <td>60.000000</td>\n",
       "      <td>1095</td>\n",
       "      <td>93</td>\n",
       "      <td>240.0</td>\n",
       "      <td>60.0</td>\n",
       "      <td>0</td>\n",
       "      <td>0</td>\n",
       "      <td>1</td>\n",
       "      <td>5</td>\n",
       "      <td>Travel Agent/Operator</td>\n",
       "      <td>Travel Agent/Operator</td>\n",
       "      <td>0</td>\n",
       "      <td>0</td>\n",
       "      <td>0</td>\n",
       "      <td>0</td>\n",
       "      <td>0</td>\n",
       "      <td>0</td>\n",
       "    </tr>\n",
       "    <tr>\n",
       "      <th>5</th>\n",
       "      <td>54.000000</td>\n",
       "      <td>1095</td>\n",
       "      <td>58</td>\n",
       "      <td>230.0</td>\n",
       "      <td>24.0</td>\n",
       "      <td>0</td>\n",
       "      <td>0</td>\n",
       "      <td>1</td>\n",
       "      <td>2</td>\n",
       "      <td>Travel Agent/Operator</td>\n",
       "      <td>Other</td>\n",
       "      <td>0</td>\n",
       "      <td>0</td>\n",
       "      <td>0</td>\n",
       "      <td>0</td>\n",
       "      <td>0</td>\n",
       "      <td>0</td>\n",
       "    </tr>\n",
       "    <tr>\n",
       "      <th>7</th>\n",
       "      <td>32.000000</td>\n",
       "      <td>1095</td>\n",
       "      <td>38</td>\n",
       "      <td>535.0</td>\n",
       "      <td>94.0</td>\n",
       "      <td>0</td>\n",
       "      <td>0</td>\n",
       "      <td>1</td>\n",
       "      <td>5</td>\n",
       "      <td>Travel Agent/Operator</td>\n",
       "      <td>Other</td>\n",
       "      <td>0</td>\n",
       "      <td>0</td>\n",
       "      <td>0</td>\n",
       "      <td>1</td>\n",
       "      <td>0</td>\n",
       "      <td>0</td>\n",
       "    </tr>\n",
       "  </tbody>\n",
       "</table>\n",
       "</div>"
      ],
      "text/plain": [
       "         Age  DaysSinceCreation  AverageLeadTime  LodgingRevenue  \\\n",
       "0  51.000000                150               45           371.0   \n",
       "1  47.292878               1095               61           280.0   \n",
       "3  60.000000               1095               93           240.0   \n",
       "5  54.000000               1095               58           230.0   \n",
       "7  32.000000               1095               38           535.0   \n",
       "\n",
       "   OtherRevenue  BookingsCanceled  BookingsNoShowed  BookingsCheckedIn  \\\n",
       "0         105.3                 1                 0                  3   \n",
       "1          53.0                 0                 0                  1   \n",
       "3          60.0                 0                 0                  1   \n",
       "5          24.0                 0                 0                  1   \n",
       "7          94.0                 0                 0                  1   \n",
       "\n",
       "   RoomNights    DistributionChannel          MarketSegment  SRBathtub  \\\n",
       "0           5              Corporate              Corporate          0   \n",
       "1           5  Travel Agent/Operator  Travel Agent/Operator          0   \n",
       "3           5  Travel Agent/Operator  Travel Agent/Operator          0   \n",
       "5           2  Travel Agent/Operator                  Other          0   \n",
       "7           5  Travel Agent/Operator                  Other          0   \n",
       "\n",
       "   SRShower  SRCrib  SRKingSizeBed  SRTwinBed  SRNoAlcoholInMiniBar  \n",
       "0         0       0              0          0                     0  \n",
       "1         0       0              0          0                     0  \n",
       "3         0       0              0          0                     0  \n",
       "5         0       0              0          0                     0  \n",
       "7         0       0              1          0                     0  "
      ]
     },
     "execution_count": 13,
     "metadata": {},
     "output_type": "execute_result"
    }
   ],
   "source": [
    "df.head()"
   ]
  },
  {
   "cell_type": "markdown",
   "id": "a97de30b",
   "metadata": {},
   "source": [
    "### 1.3. Дескриптивные статистики"
   ]
  },
  {
   "cell_type": "markdown",
   "id": "1987494b",
   "metadata": {},
   "source": [
    "Посмотрим **дескриптивные статистики** по переменным. Все переменные с приставкой SR в начале названия являются бинарными, поэтому их статистики не имеют особого смысла, за исключением среднего - оно условно указывает на долю значений \"1\"."
   ]
  },
  {
   "cell_type": "code",
   "execution_count": 14,
   "id": "fbfc7bee",
   "metadata": {},
   "outputs": [
    {
     "data": {
      "text/html": [
       "<div>\n",
       "<style scoped>\n",
       "    .dataframe tbody tr th:only-of-type {\n",
       "        vertical-align: middle;\n",
       "    }\n",
       "\n",
       "    .dataframe tbody tr th {\n",
       "        vertical-align: top;\n",
       "    }\n",
       "\n",
       "    .dataframe thead th {\n",
       "        text-align: right;\n",
       "    }\n",
       "</style>\n",
       "<table border=\"1\" class=\"dataframe\">\n",
       "  <thead>\n",
       "    <tr style=\"text-align: right;\">\n",
       "      <th></th>\n",
       "      <th>Age</th>\n",
       "      <th>DaysSinceCreation</th>\n",
       "      <th>AverageLeadTime</th>\n",
       "      <th>LodgingRevenue</th>\n",
       "      <th>OtherRevenue</th>\n",
       "      <th>BookingsCanceled</th>\n",
       "      <th>BookingsNoShowed</th>\n",
       "      <th>BookingsCheckedIn</th>\n",
       "      <th>RoomNights</th>\n",
       "      <th>SRBathtub</th>\n",
       "      <th>SRShower</th>\n",
       "      <th>SRCrib</th>\n",
       "      <th>SRKingSizeBed</th>\n",
       "      <th>SRTwinBed</th>\n",
       "      <th>SRNoAlcoholInMiniBar</th>\n",
       "    </tr>\n",
       "  </thead>\n",
       "  <tbody>\n",
       "    <tr>\n",
       "      <th>count</th>\n",
       "      <td>63182.000000</td>\n",
       "      <td>63182.000000</td>\n",
       "      <td>63182.000000</td>\n",
       "      <td>63182.000000</td>\n",
       "      <td>63182.000000</td>\n",
       "      <td>63182.000000</td>\n",
       "      <td>63182.000000</td>\n",
       "      <td>63182.000000</td>\n",
       "      <td>63182.000000</td>\n",
       "      <td>63182.000000</td>\n",
       "      <td>63182.000000</td>\n",
       "      <td>63182.000000</td>\n",
       "      <td>63182.000000</td>\n",
       "      <td>63182.000000</td>\n",
       "      <td>63182.000000</td>\n",
       "    </tr>\n",
       "    <tr>\n",
       "      <th>mean</th>\n",
       "      <td>47.292878</td>\n",
       "      <td>526.628391</td>\n",
       "      <td>87.239467</td>\n",
       "      <td>395.316173</td>\n",
       "      <td>89.132122</td>\n",
       "      <td>0.002422</td>\n",
       "      <td>0.000839</td>\n",
       "      <td>1.041737</td>\n",
       "      <td>3.102672</td>\n",
       "      <td>0.002691</td>\n",
       "      <td>0.001741</td>\n",
       "      <td>0.009322</td>\n",
       "      <td>0.348707</td>\n",
       "      <td>0.137112</td>\n",
       "      <td>0.000079</td>\n",
       "    </tr>\n",
       "    <tr>\n",
       "      <th>std</th>\n",
       "      <td>14.639119</td>\n",
       "      <td>302.609539</td>\n",
       "      <td>91.060925</td>\n",
       "      <td>381.796436</td>\n",
       "      <td>121.571862</td>\n",
       "      <td>0.074708</td>\n",
       "      <td>0.033981</td>\n",
       "      <td>0.597592</td>\n",
       "      <td>2.128428</td>\n",
       "      <td>0.051802</td>\n",
       "      <td>0.041689</td>\n",
       "      <td>0.096102</td>\n",
       "      <td>0.476565</td>\n",
       "      <td>0.343968</td>\n",
       "      <td>0.008896</td>\n",
       "    </tr>\n",
       "    <tr>\n",
       "      <th>min</th>\n",
       "      <td>-11.000000</td>\n",
       "      <td>0.000000</td>\n",
       "      <td>-1.000000</td>\n",
       "      <td>18.000000</td>\n",
       "      <td>0.000000</td>\n",
       "      <td>0.000000</td>\n",
       "      <td>0.000000</td>\n",
       "      <td>1.000000</td>\n",
       "      <td>1.000000</td>\n",
       "      <td>0.000000</td>\n",
       "      <td>0.000000</td>\n",
       "      <td>0.000000</td>\n",
       "      <td>0.000000</td>\n",
       "      <td>0.000000</td>\n",
       "      <td>0.000000</td>\n",
       "    </tr>\n",
       "    <tr>\n",
       "      <th>25%</th>\n",
       "      <td>37.000000</td>\n",
       "      <td>255.000000</td>\n",
       "      <td>16.000000</td>\n",
       "      <td>187.220000</td>\n",
       "      <td>28.000000</td>\n",
       "      <td>0.000000</td>\n",
       "      <td>0.000000</td>\n",
       "      <td>1.000000</td>\n",
       "      <td>2.000000</td>\n",
       "      <td>0.000000</td>\n",
       "      <td>0.000000</td>\n",
       "      <td>0.000000</td>\n",
       "      <td>0.000000</td>\n",
       "      <td>0.000000</td>\n",
       "      <td>0.000000</td>\n",
       "    </tr>\n",
       "    <tr>\n",
       "      <th>50%</th>\n",
       "      <td>47.292878</td>\n",
       "      <td>528.000000</td>\n",
       "      <td>59.000000</td>\n",
       "      <td>305.600000</td>\n",
       "      <td>56.000000</td>\n",
       "      <td>0.000000</td>\n",
       "      <td>0.000000</td>\n",
       "      <td>1.000000</td>\n",
       "      <td>3.000000</td>\n",
       "      <td>0.000000</td>\n",
       "      <td>0.000000</td>\n",
       "      <td>0.000000</td>\n",
       "      <td>0.000000</td>\n",
       "      <td>0.000000</td>\n",
       "      <td>0.000000</td>\n",
       "    </tr>\n",
       "    <tr>\n",
       "      <th>75%</th>\n",
       "      <td>57.000000</td>\n",
       "      <td>798.000000</td>\n",
       "      <td>131.750000</td>\n",
       "      <td>472.000000</td>\n",
       "      <td>110.000000</td>\n",
       "      <td>0.000000</td>\n",
       "      <td>0.000000</td>\n",
       "      <td>1.000000</td>\n",
       "      <td>4.000000</td>\n",
       "      <td>0.000000</td>\n",
       "      <td>0.000000</td>\n",
       "      <td>0.000000</td>\n",
       "      <td>1.000000</td>\n",
       "      <td>0.000000</td>\n",
       "      <td>0.000000</td>\n",
       "    </tr>\n",
       "    <tr>\n",
       "      <th>max</th>\n",
       "      <td>114.000000</td>\n",
       "      <td>1095.000000</td>\n",
       "      <td>588.000000</td>\n",
       "      <td>21781.000000</td>\n",
       "      <td>7730.250000</td>\n",
       "      <td>9.000000</td>\n",
       "      <td>3.000000</td>\n",
       "      <td>66.000000</td>\n",
       "      <td>185.000000</td>\n",
       "      <td>1.000000</td>\n",
       "      <td>1.000000</td>\n",
       "      <td>1.000000</td>\n",
       "      <td>1.000000</td>\n",
       "      <td>1.000000</td>\n",
       "      <td>1.000000</td>\n",
       "    </tr>\n",
       "  </tbody>\n",
       "</table>\n",
       "</div>"
      ],
      "text/plain": [
       "                Age  DaysSinceCreation  AverageLeadTime  LodgingRevenue  \\\n",
       "count  63182.000000       63182.000000     63182.000000    63182.000000   \n",
       "mean      47.292878         526.628391        87.239467      395.316173   \n",
       "std       14.639119         302.609539        91.060925      381.796436   \n",
       "min      -11.000000           0.000000        -1.000000       18.000000   \n",
       "25%       37.000000         255.000000        16.000000      187.220000   \n",
       "50%       47.292878         528.000000        59.000000      305.600000   \n",
       "75%       57.000000         798.000000       131.750000      472.000000   \n",
       "max      114.000000        1095.000000       588.000000    21781.000000   \n",
       "\n",
       "       OtherRevenue  BookingsCanceled  BookingsNoShowed  BookingsCheckedIn  \\\n",
       "count  63182.000000      63182.000000      63182.000000       63182.000000   \n",
       "mean      89.132122          0.002422          0.000839           1.041737   \n",
       "std      121.571862          0.074708          0.033981           0.597592   \n",
       "min        0.000000          0.000000          0.000000           1.000000   \n",
       "25%       28.000000          0.000000          0.000000           1.000000   \n",
       "50%       56.000000          0.000000          0.000000           1.000000   \n",
       "75%      110.000000          0.000000          0.000000           1.000000   \n",
       "max     7730.250000          9.000000          3.000000          66.000000   \n",
       "\n",
       "         RoomNights     SRBathtub      SRShower        SRCrib  SRKingSizeBed  \\\n",
       "count  63182.000000  63182.000000  63182.000000  63182.000000   63182.000000   \n",
       "mean       3.102672      0.002691      0.001741      0.009322       0.348707   \n",
       "std        2.128428      0.051802      0.041689      0.096102       0.476565   \n",
       "min        1.000000      0.000000      0.000000      0.000000       0.000000   \n",
       "25%        2.000000      0.000000      0.000000      0.000000       0.000000   \n",
       "50%        3.000000      0.000000      0.000000      0.000000       0.000000   \n",
       "75%        4.000000      0.000000      0.000000      0.000000       1.000000   \n",
       "max      185.000000      1.000000      1.000000      1.000000       1.000000   \n",
       "\n",
       "          SRTwinBed  SRNoAlcoholInMiniBar  \n",
       "count  63182.000000          63182.000000  \n",
       "mean       0.137112              0.000079  \n",
       "std        0.343968              0.008896  \n",
       "min        0.000000              0.000000  \n",
       "25%        0.000000              0.000000  \n",
       "50%        0.000000              0.000000  \n",
       "75%        0.000000              0.000000  \n",
       "max        1.000000              1.000000  "
      ]
     },
     "execution_count": 14,
     "metadata": {},
     "output_type": "execute_result"
    }
   ],
   "source": [
    "df.describe()"
   ]
  },
  {
   "cell_type": "markdown",
   "id": "986c6216",
   "metadata": {},
   "source": [
    "Мы видим, что в минимальные значения по переменным Age и AverageLeadTime отрицательные, хотя такого не должно быть. Оставим в датасете только те значения, которые больше нуля."
   ]
  },
  {
   "cell_type": "code",
   "execution_count": 15,
   "id": "014787bd",
   "metadata": {},
   "outputs": [],
   "source": [
    "df = df[(df['Age'] > 0) & (df['DaysSinceCreation'] > 0)]"
   ]
  },
  {
   "cell_type": "code",
   "execution_count": 16,
   "id": "f79df040",
   "metadata": {
    "scrolled": true
   },
   "outputs": [
    {
     "data": {
      "text/html": [
       "<div>\n",
       "<style scoped>\n",
       "    .dataframe tbody tr th:only-of-type {\n",
       "        vertical-align: middle;\n",
       "    }\n",
       "\n",
       "    .dataframe tbody tr th {\n",
       "        vertical-align: top;\n",
       "    }\n",
       "\n",
       "    .dataframe thead th {\n",
       "        text-align: right;\n",
       "    }\n",
       "</style>\n",
       "<table border=\"1\" class=\"dataframe\">\n",
       "  <thead>\n",
       "    <tr style=\"text-align: right;\">\n",
       "      <th></th>\n",
       "      <th>Age</th>\n",
       "      <th>DaysSinceCreation</th>\n",
       "      <th>AverageLeadTime</th>\n",
       "      <th>LodgingRevenue</th>\n",
       "      <th>OtherRevenue</th>\n",
       "      <th>BookingsCanceled</th>\n",
       "      <th>BookingsNoShowed</th>\n",
       "      <th>BookingsCheckedIn</th>\n",
       "      <th>RoomNights</th>\n",
       "      <th>DistributionChannel</th>\n",
       "      <th>MarketSegment</th>\n",
       "      <th>SRBathtub</th>\n",
       "      <th>SRShower</th>\n",
       "      <th>SRCrib</th>\n",
       "      <th>SRKingSizeBed</th>\n",
       "      <th>SRTwinBed</th>\n",
       "      <th>SRNoAlcoholInMiniBar</th>\n",
       "    </tr>\n",
       "  </thead>\n",
       "  <tbody>\n",
       "    <tr>\n",
       "      <th>0</th>\n",
       "      <td>51.000000</td>\n",
       "      <td>150</td>\n",
       "      <td>45</td>\n",
       "      <td>371.0</td>\n",
       "      <td>105.3</td>\n",
       "      <td>1</td>\n",
       "      <td>0</td>\n",
       "      <td>3</td>\n",
       "      <td>5</td>\n",
       "      <td>Corporate</td>\n",
       "      <td>Corporate</td>\n",
       "      <td>0</td>\n",
       "      <td>0</td>\n",
       "      <td>0</td>\n",
       "      <td>0</td>\n",
       "      <td>0</td>\n",
       "      <td>0</td>\n",
       "    </tr>\n",
       "    <tr>\n",
       "      <th>1</th>\n",
       "      <td>47.292878</td>\n",
       "      <td>1095</td>\n",
       "      <td>61</td>\n",
       "      <td>280.0</td>\n",
       "      <td>53.0</td>\n",
       "      <td>0</td>\n",
       "      <td>0</td>\n",
       "      <td>1</td>\n",
       "      <td>5</td>\n",
       "      <td>Travel Agent/Operator</td>\n",
       "      <td>Travel Agent/Operator</td>\n",
       "      <td>0</td>\n",
       "      <td>0</td>\n",
       "      <td>0</td>\n",
       "      <td>0</td>\n",
       "      <td>0</td>\n",
       "      <td>0</td>\n",
       "    </tr>\n",
       "    <tr>\n",
       "      <th>3</th>\n",
       "      <td>60.000000</td>\n",
       "      <td>1095</td>\n",
       "      <td>93</td>\n",
       "      <td>240.0</td>\n",
       "      <td>60.0</td>\n",
       "      <td>0</td>\n",
       "      <td>0</td>\n",
       "      <td>1</td>\n",
       "      <td>5</td>\n",
       "      <td>Travel Agent/Operator</td>\n",
       "      <td>Travel Agent/Operator</td>\n",
       "      <td>0</td>\n",
       "      <td>0</td>\n",
       "      <td>0</td>\n",
       "      <td>0</td>\n",
       "      <td>0</td>\n",
       "      <td>0</td>\n",
       "    </tr>\n",
       "    <tr>\n",
       "      <th>5</th>\n",
       "      <td>54.000000</td>\n",
       "      <td>1095</td>\n",
       "      <td>58</td>\n",
       "      <td>230.0</td>\n",
       "      <td>24.0</td>\n",
       "      <td>0</td>\n",
       "      <td>0</td>\n",
       "      <td>1</td>\n",
       "      <td>2</td>\n",
       "      <td>Travel Agent/Operator</td>\n",
       "      <td>Other</td>\n",
       "      <td>0</td>\n",
       "      <td>0</td>\n",
       "      <td>0</td>\n",
       "      <td>0</td>\n",
       "      <td>0</td>\n",
       "      <td>0</td>\n",
       "    </tr>\n",
       "    <tr>\n",
       "      <th>7</th>\n",
       "      <td>32.000000</td>\n",
       "      <td>1095</td>\n",
       "      <td>38</td>\n",
       "      <td>535.0</td>\n",
       "      <td>94.0</td>\n",
       "      <td>0</td>\n",
       "      <td>0</td>\n",
       "      <td>1</td>\n",
       "      <td>5</td>\n",
       "      <td>Travel Agent/Operator</td>\n",
       "      <td>Other</td>\n",
       "      <td>0</td>\n",
       "      <td>0</td>\n",
       "      <td>0</td>\n",
       "      <td>1</td>\n",
       "      <td>0</td>\n",
       "      <td>0</td>\n",
       "    </tr>\n",
       "  </tbody>\n",
       "</table>\n",
       "</div>"
      ],
      "text/plain": [
       "         Age  DaysSinceCreation  AverageLeadTime  LodgingRevenue  \\\n",
       "0  51.000000                150               45           371.0   \n",
       "1  47.292878               1095               61           280.0   \n",
       "3  60.000000               1095               93           240.0   \n",
       "5  54.000000               1095               58           230.0   \n",
       "7  32.000000               1095               38           535.0   \n",
       "\n",
       "   OtherRevenue  BookingsCanceled  BookingsNoShowed  BookingsCheckedIn  \\\n",
       "0         105.3                 1                 0                  3   \n",
       "1          53.0                 0                 0                  1   \n",
       "3          60.0                 0                 0                  1   \n",
       "5          24.0                 0                 0                  1   \n",
       "7          94.0                 0                 0                  1   \n",
       "\n",
       "   RoomNights    DistributionChannel          MarketSegment  SRBathtub  \\\n",
       "0           5              Corporate              Corporate          0   \n",
       "1           5  Travel Agent/Operator  Travel Agent/Operator          0   \n",
       "3           5  Travel Agent/Operator  Travel Agent/Operator          0   \n",
       "5           2  Travel Agent/Operator                  Other          0   \n",
       "7           5  Travel Agent/Operator                  Other          0   \n",
       "\n",
       "   SRShower  SRCrib  SRKingSizeBed  SRTwinBed  SRNoAlcoholInMiniBar  \n",
       "0         0       0              0          0                     0  \n",
       "1         0       0              0          0                     0  \n",
       "3         0       0              0          0                     0  \n",
       "5         0       0              0          0                     0  \n",
       "7         0       0              1          0                     0  "
      ]
     },
     "execution_count": 16,
     "metadata": {},
     "output_type": "execute_result"
    }
   ],
   "source": [
    "df.head()"
   ]
  },
  {
   "cell_type": "code",
   "execution_count": 17,
   "id": "e2fa85a1",
   "metadata": {},
   "outputs": [
    {
     "data": {
      "text/plain": [
       "47.309886337239924"
      ]
     },
     "execution_count": 17,
     "metadata": {},
     "output_type": "execute_result"
    }
   ],
   "source": [
    "df.Age.mean()"
   ]
  },
  {
   "cell_type": "markdown",
   "id": "a54b9746",
   "metadata": {},
   "source": [
    "Среднее значение по возрасту изменилось несильно, поэтому не будем его заменять (после заполнения пропусков средним значением по переменной)."
   ]
  },
  {
   "cell_type": "markdown",
   "id": "0d37b248",
   "metadata": {},
   "source": [
    "### 1.4. Выбросы"
   ]
  },
  {
   "cell_type": "markdown",
   "id": "29ecb8b9",
   "metadata": {},
   "source": [
    "Построим ящики с усами для переменных по расходам гостей, чтобы проверить наличие выбросов в этих переменных."
   ]
  },
  {
   "cell_type": "markdown",
   "id": "fdde0567",
   "metadata": {},
   "source": [
    "Проверим наличие выбросов в переменной **OtherRevenue** (прочие расходы гостей)."
   ]
  },
  {
   "cell_type": "code",
   "execution_count": 18,
   "id": "66afdaf1",
   "metadata": {},
   "outputs": [
    {
     "data": {
      "image/png": "[encoded data removed]",
      "text/plain": [
       "<Figure size 432x288 with 1 Axes>"
      ]
     },
     "metadata": {
      "needs_background": "light"
     },
     "output_type": "display_data"
    }
   ],
   "source": [
    "sns.boxplot(x=df['OtherRevenue'])\n",
    "plt.show()"
   ]
  },
  {
   "cell_type": "markdown",
   "id": "de623b97",
   "metadata": {},
   "source": [
    "Как мы можем видеть, ящик с усами определил достаточно много выбросов. Попробуем определить их с помощью метода 2.5 среднеквадратических отклонений."
   ]
  },
  {
   "cell_type": "code",
   "execution_count": 19,
   "id": "adfca6c4",
   "metadata": {},
   "outputs": [
    {
     "name": "stdout",
     "output_type": "stream",
     "text": [
      "Нижняя граница = -214.8723924272042\n",
      "Верняя граница = 393.0967322770198\n"
     ]
    }
   ],
   "source": [
    "mean = df['OtherRevenue'].mean()\n",
    "std = df['OtherRevenue'].std()\n",
    "std_outlier_threshold_bottom = mean - 2.5 * std\n",
    "std_outlier_threshold_up = mean + 2.5 * std\n",
    "print('Нижняя граница =', std_outlier_threshold_bottom)\n",
    "print('Верняя граница =', std_outlier_threshold_up)"
   ]
  },
  {
   "cell_type": "code",
   "execution_count": 20,
   "id": "faff5f07",
   "metadata": {},
   "outputs": [
    {
     "data": {
      "text/plain": [
       "(1353, 17)"
      ]
     },
     "execution_count": 20,
     "metadata": {},
     "output_type": "execute_result"
    }
   ],
   "source": [
    "df[df['OtherRevenue'] > std_outlier_threshold_up].shape"
   ]
  },
  {
   "cell_type": "code",
   "execution_count": 21,
   "id": "7818f19c",
   "metadata": {},
   "outputs": [
    {
     "data": {
      "text/plain": [
       "(0, 17)"
      ]
     },
     "execution_count": 21,
     "metadata": {},
     "output_type": "execute_result"
    }
   ],
   "source": [
    "df[df['OtherRevenue'] < std_outlier_threshold_bottom].shape"
   ]
  },
  {
   "cell_type": "markdown",
   "id": "3139434c",
   "metadata": {},
   "source": [
    "Таким образом, метод 3 среднеквадратических отклонений выявил **1353 выброса \"сверху\"** и ни одного \"снизу\". На ящике с усами последние также отсутствовали. Удалим выбросы."
   ]
  },
  {
   "cell_type": "code",
   "execution_count": 22,
   "id": "c9458a5c",
   "metadata": {},
   "outputs": [],
   "source": [
    "# перезаписываем имеющийся датасет, исключив из него выбросы по переменной OtherRevenue (прочие расходы)\n",
    "df = df[df['OtherRevenue'] <= std_outlier_threshold_up]"
   ]
  },
  {
   "cell_type": "code",
   "execution_count": 23,
   "id": "42378c3d",
   "metadata": {},
   "outputs": [
    {
     "data": {
      "image/png": "[encoded data removed]",
      "text/plain": [
       "<Figure size 432x288 with 1 Axes>"
      ]
     },
     "metadata": {
      "needs_background": "light"
     },
     "output_type": "display_data"
    }
   ],
   "source": [
    "sns.boxplot(x=df['OtherRevenue'])\n",
    "plt.show()"
   ]
  },
  {
   "cell_type": "markdown",
   "id": "c5afda0b",
   "metadata": {},
   "source": [
    "График ящика с усами стал более адекватным. Он все еще показывает наличие выбросов, однако можно считать, что необходимые выбросы мы удалили, использовав метод 2.5 среднеквадратических отклонений."
   ]
  },
  {
   "cell_type": "markdown",
   "id": "c6ebb04f",
   "metadata": {},
   "source": [
    "Проделаем те же операции для переменной **LodgingRevenue**."
   ]
  },
  {
   "cell_type": "code",
   "execution_count": 24,
   "id": "b5728bf6",
   "metadata": {},
   "outputs": [
    {
     "data": {
      "image/png": "[encoded data removed]",
      "text/plain": [
       "<Figure size 432x288 with 1 Axes>"
      ]
     },
     "metadata": {
      "needs_background": "light"
     },
     "output_type": "display_data"
    }
   ],
   "source": [
    "sns.boxplot(x=df['LodgingRevenue'])\n",
    "plt.show()"
   ]
  },
  {
   "cell_type": "markdown",
   "id": "6fe651b8",
   "metadata": {},
   "source": [
    "Применяем метод 2.5 среднеквадратических отклонений для выявления выбросов."
   ]
  },
  {
   "cell_type": "code",
   "execution_count": 25,
   "id": "e329df75",
   "metadata": {},
   "outputs": [
    {
     "name": "stdout",
     "output_type": "stream",
     "text": [
      "Нижняя граница = -440.37415637551953\n",
      "Верняя граница = 1200.1448870009315\n"
     ]
    }
   ],
   "source": [
    "mean_lodg = df['LodgingRevenue'].mean()\n",
    "std_lodg = df['LodgingRevenue'].std()\n",
    "std_outlier_threshold_bottom_lodg = mean_lodg - 2.5 * std_lodg\n",
    "std_outlier_threshold_up_lodg = mean_lodg + 2.5 * std_lodg\n",
    "print('Нижняя граница =', std_outlier_threshold_bottom_lodg)\n",
    "print('Верняя граница =', std_outlier_threshold_up_lodg)"
   ]
  },
  {
   "cell_type": "code",
   "execution_count": 26,
   "id": "2deeb525",
   "metadata": {},
   "outputs": [
    {
     "data": {
      "text/plain": [
       "(1604, 17)"
      ]
     },
     "execution_count": 26,
     "metadata": {},
     "output_type": "execute_result"
    }
   ],
   "source": [
    "df[df['LodgingRevenue'] > std_outlier_threshold_up_lodg].shape"
   ]
  },
  {
   "cell_type": "code",
   "execution_count": 27,
   "id": "dc8f3e5d",
   "metadata": {},
   "outputs": [
    {
     "data": {
      "text/plain": [
       "(0, 17)"
      ]
     },
     "execution_count": 27,
     "metadata": {},
     "output_type": "execute_result"
    }
   ],
   "source": [
    "df[df['LodgingRevenue'] < std_outlier_threshold_bottom_lodg].shape"
   ]
  },
  {
   "cell_type": "markdown",
   "id": "68ab9995",
   "metadata": {},
   "source": [
    "По переменной LodgingRevenue анализ показал наличие **1604 выбросов** \"сверху\". Удалим эти наблюдения из датасета."
   ]
  },
  {
   "cell_type": "code",
   "execution_count": 28,
   "id": "4a8d3fb4",
   "metadata": {},
   "outputs": [],
   "source": [
    "df = df[df['LodgingRevenue'] <= std_outlier_threshold_up_lodg]"
   ]
  },
  {
   "cell_type": "code",
   "execution_count": 29,
   "id": "f4170e2b",
   "metadata": {},
   "outputs": [
    {
     "data": {
      "image/png": "[encoded data removed]",
      "text/plain": [
       "<Figure size 432x288 with 1 Axes>"
      ]
     },
     "metadata": {
      "needs_background": "light"
     },
     "output_type": "display_data"
    }
   ],
   "source": [
    "sns.boxplot(x=df['LodgingRevenue'])\n",
    "plt.show()"
   ]
  },
  {
   "cell_type": "code",
   "execution_count": 30,
   "id": "675b3ee7",
   "metadata": {},
   "outputs": [
    {
     "data": {
      "text/plain": [
       "Age                     60165\n",
       "DaysSinceCreation       60165\n",
       "AverageLeadTime         60165\n",
       "LodgingRevenue          60165\n",
       "OtherRevenue            60165\n",
       "BookingsCanceled        60165\n",
       "BookingsNoShowed        60165\n",
       "BookingsCheckedIn       60165\n",
       "RoomNights              60165\n",
       "DistributionChannel     60165\n",
       "MarketSegment           60165\n",
       "SRBathtub               60165\n",
       "SRShower                60165\n",
       "SRCrib                  60165\n",
       "SRKingSizeBed           60165\n",
       "SRTwinBed               60165\n",
       "SRNoAlcoholInMiniBar    60165\n",
       "dtype: int64"
      ]
     },
     "execution_count": 30,
     "metadata": {},
     "output_type": "execute_result"
    }
   ],
   "source": [
    "df.count()"
   ]
  },
  {
   "cell_type": "markdown",
   "id": "a4a6500c",
   "metadata": {},
   "source": [
    "После очистки данных у нас осталось **60165 наблюдений**."
   ]
  },
  {
   "cell_type": "markdown",
   "id": "031fada7",
   "metadata": {},
   "source": [
    "### 1.5. Cоздание новых переменных, анализ категориальных переменных"
   ]
  },
  {
   "cell_type": "markdown",
   "id": "35bd7415",
   "metadata": {},
   "source": [
    "Создадим переменную для **общих расходов гостей** (стандартные + прочие)."
   ]
  },
  {
   "cell_type": "code",
   "execution_count": 31,
   "id": "a953c7e6",
   "metadata": {},
   "outputs": [],
   "source": [
    "df['TotalRevenue'] = df['LodgingRevenue'] + df['OtherRevenue']"
   ]
  },
  {
   "cell_type": "code",
   "execution_count": 32,
   "id": "81c4689a",
   "metadata": {},
   "outputs": [
    {
     "data": {
      "text/plain": [
       "<AxesSubplot:xlabel='TotalRevenue', ylabel='Count'>"
      ]
     },
     "execution_count": 32,
     "metadata": {},
     "output_type": "execute_result"
    },
    {
     "data": {
      "image/png": "[encoded data removed]",
      "text/plain": [
       "<Figure size 432x288 with 1 Axes>"
      ]
     },
     "metadata": {
      "needs_background": "light"
     },
     "output_type": "display_data"
    }
   ],
   "source": [
    "sns.histplot(df['TotalRevenue'], kde=True)"
   ]
  },
  {
   "cell_type": "markdown",
   "id": "bf58d12f",
   "metadata": {},
   "source": [
    "Мы видим, что **переменная суммарных расходов распределена не нормально**."
   ]
  },
  {
   "cell_type": "markdown",
   "id": "613b4177",
   "metadata": {},
   "source": [
    "Создадим переменную **MonthSinceCreation** (число месяцев, прошедшее с момента регистрации аккаунта до выгрузки данных) для более удобной дальнейшей интерпретации."
   ]
  },
  {
   "cell_type": "code",
   "execution_count": 33,
   "id": "c029987d",
   "metadata": {},
   "outputs": [],
   "source": [
    "df['MonthsSinceCreation'] = df['DaysSinceCreation'] / 12"
   ]
  },
  {
   "cell_type": "code",
   "execution_count": 34,
   "id": "abab1372",
   "metadata": {},
   "outputs": [
    {
     "data": {
      "text/plain": [
       "<AxesSubplot:>"
      ]
     },
     "execution_count": 34,
     "metadata": {},
     "output_type": "execute_result"
    },
    {
     "data": {
      "image/png": "[encoded data removed]",
      "text/plain": [
       "<Figure size 432x288 with 1 Axes>"
      ]
     },
     "metadata": {
      "needs_background": "light"
     },
     "output_type": "display_data"
    }
   ],
   "source": [
    "df['MonthsSinceCreation'].hist()"
   ]
  },
  {
   "cell_type": "markdown",
   "id": "6ac48432",
   "metadata": {},
   "source": [
    "Здесь мы видим распределение переменной **MonthsSinceCreation**. Так, пики наблюдаются примерно в 10, 40 и 70 месяцах существования аккаунта гостя."
   ]
  },
  {
   "cell_type": "markdown",
   "id": "9c729240",
   "metadata": {},
   "source": [
    "Посмотрим на значения переменной **DistributionChannel** - канала, через который гость совершает букинг. Эта переменная представляет интерес, поскольку в зависимости от того, каким способом гость бронировал отель, его расходы могут отличаться (например, когда номер бронируется через корп. каналы отеля и когда бронированием занимается туроператор)."
   ]
  },
  {
   "cell_type": "code",
   "execution_count": 35,
   "id": "9295eab0",
   "metadata": {},
   "outputs": [
    {
     "data": {
      "text/plain": [
       "Travel Agent/Operator      49783\n",
       "Direct                      7681\n",
       "Corporate                   2223\n",
       "Electronic Distribution      478\n",
       "Name: DistributionChannel, dtype: int64"
      ]
     },
     "execution_count": 35,
     "metadata": {},
     "output_type": "execute_result"
    }
   ],
   "source": [
    "df['DistributionChannel'].value_counts()"
   ]
  },
  {
   "cell_type": "markdown",
   "id": "233b7c3a",
   "metadata": {},
   "source": [
    "Для удобства отобразим результаты на **круговой диаграмме**."
   ]
  },
  {
   "cell_type": "code",
   "execution_count": 36,
   "id": "b949876b",
   "metadata": {},
   "outputs": [
    {
     "data": {
      "text/plain": [
       "<AxesSubplot:ylabel='DistributionChannel'>"
      ]
     },
     "execution_count": 36,
     "metadata": {},
     "output_type": "execute_result"
    },
    {
     "data": {
      "image/png": "[encoded data removed]",
      "text/plain": [
       "<Figure size 432x288 with 1 Axes>"
      ]
     },
     "metadata": {},
     "output_type": "display_data"
    }
   ],
   "source": [
    "df.DistributionChannel.value_counts().plot.pie(autopct = '%0.2f%%', explode = [0, 0, 0, 0.9])"
   ]
  },
  {
   "cell_type": "markdown",
   "id": "b43d9d6d",
   "metadata": {},
   "source": [
    "Как мы можем видеть, более 80% гостей бронируют отель через туроператоров или агентства (**Travel Agent/Operator**), 13% бронируют номер напрямую через отдел продаж отеля (традиционное бронирование через обычного менеджера) (**Direct**), 4% гостей осуществляют бронирование через корп. каналы отеля (сайт) (**Corporate**) и менее 1% бронируют номера через системы онлайн-бронирования (Booking.com, AirBnb и т.д.) (**ElectronicDistribution**)."
   ]
  },
  {
   "cell_type": "markdown",
   "id": "77bdffc5",
   "metadata": {},
   "source": [
    "Посмотрим на значения переменных **BookingsCanceled**, **BookingsNoShowed** и **BookingsCheckedIn**."
   ]
  },
  {
   "cell_type": "code",
   "execution_count": 37,
   "id": "dbbf1a97",
   "metadata": {},
   "outputs": [
    {
     "data": {
      "text/plain": [
       "0    60092\n",
       "1       57\n",
       "3        7\n",
       "2        7\n",
       "9        1\n",
       "4        1\n",
       "Name: BookingsCanceled, dtype: int64"
      ]
     },
     "execution_count": 37,
     "metadata": {},
     "output_type": "execute_result"
    }
   ],
   "source": [
    "df.BookingsCanceled.value_counts()"
   ]
  },
  {
   "cell_type": "code",
   "execution_count": 38,
   "id": "c8ba8cb2",
   "metadata": {},
   "outputs": [
    {
     "data": {
      "text/plain": [
       "0    60131\n",
       "1       31\n",
       "2        3\n",
       "Name: BookingsNoShowed, dtype: int64"
      ]
     },
     "execution_count": 38,
     "metadata": {},
     "output_type": "execute_result"
    }
   ],
   "source": [
    "df.BookingsNoShowed.value_counts()"
   ]
  },
  {
   "cell_type": "code",
   "execution_count": 39,
   "id": "1345b4b5",
   "metadata": {},
   "outputs": [
    {
     "data": {
      "text/plain": [
       "1     59037\n",
       "2       929\n",
       "3        94\n",
       "4        44\n",
       "6        17\n",
       "5        13\n",
       "8         9\n",
       "7         8\n",
       "9         6\n",
       "11        2\n",
       "13        2\n",
       "15        1\n",
       "57        1\n",
       "14        1\n",
       "10        1\n",
       "Name: BookingsCheckedIn, dtype: int64"
      ]
     },
     "execution_count": 39,
     "metadata": {},
     "output_type": "execute_result"
    }
   ],
   "source": [
    "df.BookingsCheckedIn.value_counts()"
   ]
  },
  {
   "cell_type": "markdown",
   "id": "87811ac5",
   "metadata": {},
   "source": [
    "Как мы можем видеть, большинство гостей ни разу не отменяло бронирование. Точно так же у большинства гостей не было случаев, когда у них была бронь, но они не заселились в номер (не приехали в отель, при этом не отменив бронь). Также мы можем видеть, что у абсолютного большинства гостей (59037 чел.) за историю их аккаунта было лишь одно бронирование с чек-ином."
   ]
  },
  {
   "cell_type": "markdown",
   "id": "9b53836b",
   "metadata": {},
   "source": [
    "### 1.6. Корреляция"
   ]
  },
  {
   "cell_type": "markdown",
   "id": "929f805d",
   "metadata": {},
   "source": [
    "Для удобства создадим датасет только с количественными переменными (категориальные и бинарные в него не включаем)."
   ]
  },
  {
   "cell_type": "code",
   "execution_count": 40,
   "id": "9e5b26ed",
   "metadata": {},
   "outputs": [],
   "source": [
    "df2 = pd.DataFrame(df.loc[:, ['Age', 'MonthsSinceCreation', 'AverageLeadTime', 'LodgingRevenue', 'OtherRevenue', 'TotalRevenue',\n",
    "                              'BookingsCanceled', 'BookingsNoShowed', 'BookingsCheckedIn', 'RoomNights']])"
   ]
  },
  {
   "cell_type": "code",
   "execution_count": 41,
   "id": "3b2b2f03",
   "metadata": {},
   "outputs": [
    {
     "data": {
      "text/plain": [
       "<AxesSubplot:>"
      ]
     },
     "execution_count": 41,
     "metadata": {},
     "output_type": "execute_result"
    },
    {
     "data": {
      "image/png": "[encoded data removed]",
      "text/plain": [
       "<Figure size 936x432 with 2 Axes>"
      ]
     },
     "metadata": {
      "needs_background": "light"
     },
     "output_type": "display_data"
    }
   ],
   "source": [
    "plt.figure(figsize = (13, 6))\n",
    "sns.heatmap(df2.corr(), center = 0, cmap = 'Greens', annot = True, fmt = '.1g', linecolor = 'white')"
   ]
  },
  {
   "cell_type": "markdown",
   "id": "a81d05e3",
   "metadata": {},
   "source": [
    "Можем заметить, что корреляции между данными в целом очень слабые. Интересно выглядят корреляции у переменной **OtherRevenue**. Так, например, наблюдается слабая линейная связь (0.4) с переменными **LodgingRevenue** (т.е. чем выше стандартные расходы, тем выше дополнительные - в целом логично, что если человек заказывает более дорогой номер, то он готов позволить себе доп. расходы на еду в гостинице, СПА и т.д.) и **RoomNights** (тоже довольно логично, если человек часто путешествует или бронирует номер на большое количество ночей за раз, то наверняка он может себе позволить доп. расходы на сервис в гостинице)."
   ]
  },
  {
   "cell_type": "markdown",
   "id": "de645ab3",
   "metadata": {},
   "source": [
    "У переменной **TotalRevenue** наблюдается высокая корреляция (0.7) с переменной **RoomNights**. Это очень логично, поскольку в общие расходы входят стандартные расходы, которые включают в себя стоимость номера. Чем больше накопленное количество ночей за период существования аккаунта (чем больше у гостя путешествий или чем они дольше), тем выше его суммарные расходы. На корреляцию с переменными **LodgingRevenue** и **OtherRevenue** не смотрим, т.к. именно из них и состоит переменная общих расходов, поэтому линейная связь очевидна."
   ]
  },
  {
   "cell_type": "markdown",
   "id": "6f163e78",
   "metadata": {},
   "source": [
    "## 2. Проверка гипотез"
   ]
  },
  {
   "cell_type": "markdown",
   "id": "a782e7af",
   "metadata": {},
   "source": [
    "### 2.1. Проверка гипотезы о наличии связи между каналом бронирования отеля и суммарными расходами гостей"
   ]
  },
  {
   "cell_type": "markdown",
   "id": "367605a6",
   "metadata": {},
   "source": [
    "Создадим необходимые переменные. Для начала преобразуем переменную **DistributionChannel** в категориальную."
   ]
  },
  {
   "cell_type": "code",
   "execution_count": 42,
   "id": "6d897210",
   "metadata": {},
   "outputs": [],
   "source": [
    "df['DistributionChannel'] = pd.Categorical(df['DistributionChannel'])"
   ]
  },
  {
   "cell_type": "code",
   "execution_count": 43,
   "id": "a91b60ba",
   "metadata": {},
   "outputs": [
    {
     "data": {
      "text/plain": [
       "Travel Agent/Operator      49783\n",
       "Direct                      7681\n",
       "Corporate                   2223\n",
       "Electronic Distribution      478\n",
       "Name: DistributionChannel, dtype: int64"
      ]
     },
     "execution_count": 43,
     "metadata": {},
     "output_type": "execute_result"
    }
   ],
   "source": [
    "df.DistributionChannel.value_counts()"
   ]
  },
  {
   "cell_type": "code",
   "execution_count": 44,
   "id": "088a4495",
   "metadata": {
    "scrolled": true
   },
   "outputs": [
    {
     "data": {
      "text/plain": [
       "<AxesSubplot:ylabel='DistributionChannel'>"
      ]
     },
     "execution_count": 44,
     "metadata": {},
     "output_type": "execute_result"
    },
    {
     "data": {
      "image/png": "[encoded data removed]",
      "text/plain": [
       "<Figure size 432x288 with 1 Axes>"
      ]
     },
     "metadata": {},
     "output_type": "display_data"
    }
   ],
   "source": [
    "df.DistributionChannel.value_counts().plot.pie(autopct = '%0.2f%%', explode = [0, 0, 0, 0.9])"
   ]
  },
  {
   "cell_type": "markdown",
   "id": "c11e3b15",
   "metadata": {},
   "source": [
    "Как мы можем видеть, большинство гостей бронирует отель через туроператора. Около 13% пользователей совершает бронирование напрямую (самостоятельно)."
   ]
  },
  {
   "cell_type": "markdown",
   "id": "9caff453",
   "metadata": {},
   "source": [
    "Создадим категории для размеров суммарных расходов гостей."
   ]
  },
  {
   "cell_type": "code",
   "execution_count": 45,
   "id": "670aff51",
   "metadata": {},
   "outputs": [
    {
     "data": {
      "text/plain": [
       "<AxesSubplot:xlabel='TotalRevenue', ylabel='Count'>"
      ]
     },
     "execution_count": 45,
     "metadata": {},
     "output_type": "execute_result"
    },
    {
     "data": {
      "image/png": "[encoded data removed]",
      "text/plain": [
       "<Figure size 432x288 with 1 Axes>"
      ]
     },
     "metadata": {
      "needs_background": "light"
     },
     "output_type": "display_data"
    }
   ],
   "source": [
    "sns.histplot(df['TotalRevenue'], kde=True)"
   ]
  },
  {
   "cell_type": "code",
   "execution_count": 46,
   "id": "fe2de3dc",
   "metadata": {},
   "outputs": [
    {
     "data": {
      "text/plain": [
       "count    60165.000000\n",
       "mean       417.360369\n",
       "std        256.338857\n",
       "min         31.000000\n",
       "25%        232.600000\n",
       "50%        364.600000\n",
       "75%        542.000000\n",
       "max       1569.600000\n",
       "Name: TotalRevenue, dtype: float64"
      ]
     },
     "execution_count": 46,
     "metadata": {},
     "output_type": "execute_result"
    }
   ],
   "source": [
    "df['TotalRevenue'].describe()"
   ]
  },
  {
   "cell_type": "code",
   "execution_count": 47,
   "id": "8f8413ab",
   "metadata": {},
   "outputs": [],
   "source": [
    "def get_revenue_cat(expenses):\n",
    "    if expenses <= 250:\n",
    "        return 'Низкие расходы'\n",
    "    elif expenses <= 500:\n",
    "        return 'Средние расходы'\n",
    "    elif expenses <= 900:\n",
    "        return 'Высокие расходы'\n",
    "    elif expenses > 900:\n",
    "        return 'Очень высокие расходы'\n",
    "    else:\n",
    "        return expenses"
   ]
  },
  {
   "cell_type": "code",
   "execution_count": 48,
   "id": "02d8651a",
   "metadata": {},
   "outputs": [],
   "source": [
    "df['RevenueCat'] = df['TotalRevenue'].apply(get_revenue_cat)"
   ]
  },
  {
   "cell_type": "code",
   "execution_count": 49,
   "id": "cfc72dff",
   "metadata": {},
   "outputs": [
    {
     "data": {
      "text/plain": [
       "<AxesSubplot:ylabel='RevenueCat'>"
      ]
     },
     "execution_count": 49,
     "metadata": {},
     "output_type": "execute_result"
    },
    {
     "data": {
      "image/png": "[encoded data removed]",
      "text/plain": [
       "<Figure size 432x288 with 1 Axes>"
      ]
     },
     "metadata": {},
     "output_type": "display_data"
    }
   ],
   "source": [
    "df.RevenueCat.value_counts().plot.pie(autopct = '%0.2f%%')"
   ]
  },
  {
   "cell_type": "markdown",
   "id": "0a6e55d5",
   "metadata": {},
   "source": [
    "Как мы можем видеть, наименьшую долю составляют гости с очень высокими расходами, а наибольшую - со средними. Гости с низкими расходами составляют около трети всех гостей, а с высокими - около четверти."
   ]
  },
  {
   "cell_type": "markdown",
   "id": "37a8d63b",
   "metadata": {},
   "source": [
    "Перейдем к непосредственной проверке гипотезы."
   ]
  },
  {
   "cell_type": "markdown",
   "id": "448bab95",
   "metadata": {},
   "source": [
    "#### H0: Размер суммарных расходов никак не связан с каналом бронирования\n",
    "#### Н1: Связь между размером суммарных расходов и каналом бронирования существует"
   ]
  },
  {
   "cell_type": "code",
   "execution_count": 50,
   "id": "536a2e01",
   "metadata": {},
   "outputs": [],
   "source": [
    "import scipy.stats"
   ]
  },
  {
   "cell_type": "code",
   "execution_count": 51,
   "id": "14a82a01",
   "metadata": {},
   "outputs": [
    {
     "data": {
      "text/html": [
       "<div>\n",
       "<style scoped>\n",
       "    .dataframe tbody tr th:only-of-type {\n",
       "        vertical-align: middle;\n",
       "    }\n",
       "\n",
       "    .dataframe tbody tr th {\n",
       "        vertical-align: top;\n",
       "    }\n",
       "\n",
       "    .dataframe thead th {\n",
       "        text-align: right;\n",
       "    }\n",
       "</style>\n",
       "<table border=\"1\" class=\"dataframe\">\n",
       "  <thead>\n",
       "    <tr style=\"text-align: right;\">\n",
       "      <th>RevenueCat</th>\n",
       "      <th>Высокие расходы</th>\n",
       "      <th>Низкие расходы</th>\n",
       "      <th>Очень высокие расходы</th>\n",
       "      <th>Средние расходы</th>\n",
       "    </tr>\n",
       "    <tr>\n",
       "      <th>DistributionChannel</th>\n",
       "      <th></th>\n",
       "      <th></th>\n",
       "      <th></th>\n",
       "      <th></th>\n",
       "    </tr>\n",
       "  </thead>\n",
       "  <tbody>\n",
       "    <tr>\n",
       "      <th>Corporate</th>\n",
       "      <td>289</td>\n",
       "      <td>1125</td>\n",
       "      <td>121</td>\n",
       "      <td>688</td>\n",
       "    </tr>\n",
       "    <tr>\n",
       "      <th>Direct</th>\n",
       "      <td>1852</td>\n",
       "      <td>2551</td>\n",
       "      <td>624</td>\n",
       "      <td>2654</td>\n",
       "    </tr>\n",
       "    <tr>\n",
       "      <th>Electronic Distribution</th>\n",
       "      <td>76</td>\n",
       "      <td>280</td>\n",
       "      <td>11</td>\n",
       "      <td>111</td>\n",
       "    </tr>\n",
       "    <tr>\n",
       "      <th>Travel Agent/Operator</th>\n",
       "      <td>11909</td>\n",
       "      <td>13431</td>\n",
       "      <td>2823</td>\n",
       "      <td>21620</td>\n",
       "    </tr>\n",
       "  </tbody>\n",
       "</table>\n",
       "</div>"
      ],
      "text/plain": [
       "RevenueCat               Высокие расходы  Низкие расходы  \\\n",
       "DistributionChannel                                        \n",
       "Corporate                            289            1125   \n",
       "Direct                              1852            2551   \n",
       "Electronic Distribution               76             280   \n",
       "Travel Agent/Operator              11909           13431   \n",
       "\n",
       "RevenueCat               Очень высокие расходы  Средние расходы  \n",
       "DistributionChannel                                              \n",
       "Corporate                                  121              688  \n",
       "Direct                                     624             2654  \n",
       "Electronic Distribution                     11              111  \n",
       "Travel Agent/Operator                     2823            21620  "
      ]
     },
     "execution_count": 51,
     "metadata": {},
     "output_type": "execute_result"
    }
   ],
   "source": [
    "ct_channels = df.groupby('DistributionChannel')['RevenueCat'].value_counts().unstack()\n",
    "ct_channels"
   ]
  },
  {
   "cell_type": "code",
   "execution_count": 52,
   "id": "18803d80",
   "metadata": {},
   "outputs": [
    {
     "data": {
      "text/plain": [
       "(1052.1129194482226,\n",
       " 9.941340844915413e-221,\n",
       " 9,\n",
       " array([[  521.93298429,   642.42169035,   132.23829469,   926.40703067],\n",
       "        [ 1803.40407213,  2219.72154907,   456.91513338,  3200.95924541],\n",
       "        [  112.22850494,   138.1365578 ,    28.43450511,   199.20043214],\n",
       "        [11688.43443863, 14386.72020278,  2961.41206682, 20746.43329178]]))"
      ]
     },
     "execution_count": 52,
     "metadata": {},
     "output_type": "execute_result"
    }
   ],
   "source": [
    "scipy.stats.chi2_contingency(ct_channels, correction = False)"
   ]
  },
  {
   "cell_type": "markdown",
   "id": "e520862d",
   "metadata": {},
   "source": [
    "Извлечем из полученного результата наблюдаемое значение статистики хи-квадрат."
   ]
  },
  {
   "cell_type": "code",
   "execution_count": 53,
   "id": "903ba006",
   "metadata": {},
   "outputs": [],
   "source": [
    "chi_obs = scipy.stats.chi2_contingency(ct_channels, correction = False)[0]"
   ]
  },
  {
   "cell_type": "code",
   "execution_count": 54,
   "id": "fd687a6b",
   "metadata": {},
   "outputs": [
    {
     "data": {
      "text/plain": [
       "16.918977604620448"
      ]
     },
     "execution_count": 54,
     "metadata": {},
     "output_type": "execute_result"
    }
   ],
   "source": [
    "alpha = 0.05 # уровень значимости\n",
    "critical_value = scipy.stats.chi2.ppf(0.95, 9) # 9 - число степеней свободы\n",
    "critical_value"
   ]
  },
  {
   "cell_type": "code",
   "execution_count": 55,
   "id": "5d5c3b19",
   "metadata": {},
   "outputs": [
    {
     "name": "stdout",
     "output_type": "stream",
     "text": [
      "Отвергаем Н0\n"
     ]
    }
   ],
   "source": [
    "if chi_obs > critical_value:\n",
    "    print('Отвергаем Н0')\n",
    "else:\n",
    "    print('Не отвергаем Н0')"
   ]
  },
  {
   "cell_type": "markdown",
   "id": "d018849f",
   "metadata": {},
   "source": [
    "Таким образом, **связь между размером суммарных расходов гостя и каналом бронирования отеля *существует***."
   ]
  },
  {
   "cell_type": "markdown",
   "id": "79588867",
   "metadata": {},
   "source": [
    "### 2.2. Проверка гипотезы о нормальности распределения"
   ]
  },
  {
   "cell_type": "markdown",
   "id": "f8f2eb96",
   "metadata": {},
   "source": [
    "#### H0: Переменная TotalRevenue распределена нормально\n",
    "#### Н1: Распределение переменной TotalRevenue не является нормальным"
   ]
  },
  {
   "cell_type": "markdown",
   "id": "964f7782",
   "metadata": {},
   "source": [
    "Сначала построим график нормальности распределения распределения переменной **TotalRevenue**."
   ]
  },
  {
   "cell_type": "code",
   "execution_count": 56,
   "id": "362d70ba",
   "metadata": {},
   "outputs": [],
   "source": [
    "from scipy import stats"
   ]
  },
  {
   "cell_type": "code",
   "execution_count": 57,
   "id": "7f200f15",
   "metadata": {},
   "outputs": [
    {
     "data": {
      "text/plain": [
       "<Figure size 432x288 with 0 Axes>"
      ]
     },
     "execution_count": 57,
     "metadata": {},
     "output_type": "execute_result"
    },
    {
     "data": {
      "image/png": "[encoded data removed]",
      "text/plain": [
       "<Figure size 432x288 with 1 Axes>"
      ]
     },
     "metadata": {
      "needs_background": "light"
     },
     "output_type": "display_data"
    },
    {
     "data": {
      "text/plain": [
       "<Figure size 432x288 with 0 Axes>"
      ]
     },
     "metadata": {},
     "output_type": "display_data"
    }
   ],
   "source": [
    "stats.probplot(df.TotalRevenue, plot = plt)\n",
    "plt.figure()"
   ]
  },
  {
   "cell_type": "markdown",
   "id": "6b5cda79",
   "metadata": {},
   "source": [
    "По графику видно, что распределение переменной, скорее всего, не является нормальным. Проверим это с помощью **критерия согласия Колмогорова-Смирнова**, т.к. он больше подходит для больших выборок (в отличие от теста Шапиро-Уилка - его не делаем, т.к. у нас большая выборка, а он скорее для маленьких)."
   ]
  },
  {
   "cell_type": "code",
   "execution_count": 58,
   "id": "06a1185a",
   "metadata": {},
   "outputs": [
    {
     "name": "stdout",
     "output_type": "stream",
     "text": [
      "0.0\n"
     ]
    }
   ],
   "source": [
    "D, p = stats.kstest(df.TotalRevenue, 'norm')\n",
    "print(p)"
   ]
  },
  {
   "cell_type": "markdown",
   "id": "280a37be",
   "metadata": {},
   "source": [
    "Мы отвергаем гипотезу о нормальности распределения переменной **TotalRevenue**, т.к. p-value = 0.0, что говорит о том, что нулевая гипотеза отвергается при любом уровне значимости."
   ]
  },
  {
   "cell_type": "markdown",
   "id": "a53e66d3",
   "metadata": {},
   "source": [
    "Чтобы **нормализовать данные**, мы можем прологарифмировать рассматриваемую переменную."
   ]
  },
  {
   "cell_type": "code",
   "execution_count": 59,
   "id": "056e6343",
   "metadata": {},
   "outputs": [],
   "source": [
    "df['TotalRevenue_Log'] = np.log(df['TotalRevenue'])"
   ]
  },
  {
   "cell_type": "code",
   "execution_count": 60,
   "id": "40d8446f",
   "metadata": {},
   "outputs": [
    {
     "data": {
      "text/plain": [
       "<Figure size 432x288 with 0 Axes>"
      ]
     },
     "execution_count": 60,
     "metadata": {},
     "output_type": "execute_result"
    },
    {
     "data": {
      "image/png": "[encoded data removed]",
      "text/plain": [
       "<Figure size 432x288 with 1 Axes>"
      ]
     },
     "metadata": {
      "needs_background": "light"
     },
     "output_type": "display_data"
    },
    {
     "data": {
      "text/plain": [
       "<Figure size 432x288 with 0 Axes>"
      ]
     },
     "metadata": {},
     "output_type": "display_data"
    }
   ],
   "source": [
    "stats.probplot(df.TotalRevenue_Log, plot = plt)\n",
    "plt.figure()"
   ]
  },
  {
   "cell_type": "markdown",
   "id": "3417e6f0",
   "metadata": {},
   "source": [
    "Можно считать, что удалось нормализовать распределение переменной **TotalRevenue**."
   ]
  },
  {
   "cell_type": "markdown",
   "id": "b2fb2a58",
   "metadata": {},
   "source": [
    "### 2.3. Проверка гипотезы о равенстве средних значений"
   ]
  },
  {
   "cell_type": "markdown",
   "id": "249c47f4",
   "metadata": {},
   "source": [
    "Проверим, равны ли **средние суммарные расходы** гостей, которые **бронируют отель через туроператоров**, и средние суммарные расходы гостей, которые **бронируют отель самостоятельно** (онлайн через корп. каналы, через агрегаторы или через отдел продаж с помощью менеджера отеля). Эта гипотеза связана с предположением о том, что бронирование через туристические агенства / туроператоров сопряжены с доп. издержками, т.к. они берут комиссию. Если средние значения суммарных расходов окажутся статистически равными, то, возможно, агентсткий сбор не был включен в переменную расходов."
   ]
  },
  {
   "cell_type": "markdown",
   "id": "3f44fcc8",
   "metadata": {},
   "source": [
    "#### H0: Средние значения суммарных расходов тех, кто бронирует отель через туроператора, и тех, кто бронирует отель самостоятельно, равны\n",
    "#### Н1: Средние значения суммарных расходов тех, кто бронирует отель через туроператора, и тех, кто бронирует отель самостоятельно, НЕ равны"
   ]
  },
  {
   "cell_type": "markdown",
   "id": "b52973c5",
   "metadata": {},
   "source": [
    "Создадим датасеты для сумммарных расходов гостей по выделенным категориям. К **категории самостоятельного бронирования** относятся следующие каналы: **Direct** (через менеджера отдела продаж отделя), **Corporate** (онлайн через сайт отеля), **ElectronicChannel** (через агрегаторы Booking.com, Airbnb и т.д.)."
   ]
  },
  {
   "cell_type": "code",
   "execution_count": 61,
   "id": "544e039a",
   "metadata": {},
   "outputs": [],
   "source": [
    "TravelOperatorBooking = df[df['DistributionChannel'] == 'Travel Agent/Operator']['TotalRevenue']\n",
    "SelfBooking = df[(df['DistributionChannel'] == 'Direct') | (df['DistributionChannel'] == 'Corporate')\\\n",
    "                | (df['DistributionChannel'] == 'ElectronicChannel')]['TotalRevenue']"
   ]
  },
  {
   "cell_type": "code",
   "execution_count": 62,
   "id": "3f7820fb",
   "metadata": {},
   "outputs": [
    {
     "data": {
      "image/png": "[encoded data removed]",
      "text/plain": [
       "<Figure size 432x288 with 1 Axes>"
      ]
     },
     "metadata": {
      "needs_background": "light"
     },
     "output_type": "display_data"
    }
   ],
   "source": [
    "plt.hist(TravelOperatorBooking, alpha = 0.5, edgecolor = 'black', label = 'Travel Operator Booking Guests')\n",
    "plt.hist(SelfBooking, alpha = 0.5, label = 'Self Booking Guests')\n",
    "plt.legend(loc = 'upper right')\n",
    "plt.show()"
   ]
  },
  {
   "cell_type": "markdown",
   "id": "10162600",
   "metadata": {},
   "source": [
    "Как мы можем видеть на графике распределения, суммарные расходы тех, кто бронирует отели через туроператоров, значительно выше расходов гостей, бронирующих номера самостоятельно."
   ]
  },
  {
   "cell_type": "markdown",
   "id": "36db7c5e",
   "metadata": {},
   "source": [
    "Проверим, равны ли дисперсии суммарных расходов по выбранным категориям."
   ]
  },
  {
   "cell_type": "code",
   "execution_count": 63,
   "id": "36e6bc3c",
   "metadata": {},
   "outputs": [
    {
     "name": "stdout",
     "output_type": "stream",
     "text": [
      "62586.82395111699\n",
      "81168.57868265497\n"
     ]
    }
   ],
   "source": [
    "# визуально\n",
    "print(TravelOperatorBooking.var())\n",
    "print(SelfBooking.var())"
   ]
  },
  {
   "cell_type": "code",
   "execution_count": 64,
   "id": "b74d7735",
   "metadata": {},
   "outputs": [
    {
     "data": {
      "text/plain": [
       "FlignerResult(statistic=216.7214647909454, pvalue=4.69396277421685e-49)"
      ]
     },
     "execution_count": 64,
     "metadata": {},
     "output_type": "execute_result"
    }
   ],
   "source": [
    "# с помощью критерия Флигнера-Килина\n",
    "stats.fligner(TravelOperatorBooking, SelfBooking)"
   ]
  },
  {
   "cell_type": "markdown",
   "id": "66c40586",
   "metadata": {},
   "source": [
    "Выведя дисперсии мы увидели, что они не равны. Также проверили **гипотезу о равенстве дисперсий** с помощью критерия Флигнера-Килина, в результате чего она так же **отверглась** (p-value очень маленькое)."
   ]
  },
  {
   "cell_type": "markdown",
   "id": "d8dfa434",
   "metadata": {},
   "source": [
    "Теперь можем переходить к **проверке гипотезы о равенстве средних значений суммарных расходов в зависимости от канала бронирования**. Для проверки будем использовать **t-test**."
   ]
  },
  {
   "cell_type": "code",
   "execution_count": 65,
   "id": "b4a535be",
   "metadata": {},
   "outputs": [
    {
     "data": {
      "text/plain": [
       "Ttest_indResult(statistic=5.713912696042768, pvalue=1.1280902646605884e-08)"
      ]
     },
     "execution_count": 65,
     "metadata": {},
     "output_type": "execute_result"
    }
   ],
   "source": [
    "scipy.stats.ttest_ind(TravelOperatorBooking, SelfBooking, equal_var=False)"
   ]
  },
  {
   "cell_type": "markdown",
   "id": "eca3d928",
   "metadata": {},
   "source": [
    "Мы видим, что p-value очень маленькое, следовательно, мы **отвергаем нулевую гипотезу** о равенстве средних значений суммарных расходов у гостей, бронирующих отель через туроператора, и у гостей, бронирующих отель самостоятельно. **Разница между средними значениями статистически значима**. Ориентируясь на график распределения суммарных расходов и результаты проверки гипотезы, мы можем предположить, что **в среднем суммарные расходы при бронировании через туроператора выше, чем при самостоятельном бронировании**."
   ]
  },
  {
   "cell_type": "markdown",
   "id": "ff3cdc2f",
   "metadata": {},
   "source": [
    "## 3. Линейная регрессия"
   ]
  },
  {
   "cell_type": "code",
   "execution_count": 66,
   "id": "ed1ee6f7",
   "metadata": {},
   "outputs": [],
   "source": [
    "import statsmodels.api as sm"
   ]
  },
  {
   "cell_type": "markdown",
   "id": "aee8df8c",
   "metadata": {},
   "source": [
    "Корреляционную матрицу мы уже строили ранее, но выведем ее еще раз для проверки на **мультиколлинеарность**."
   ]
  },
  {
   "cell_type": "code",
   "execution_count": 67,
   "id": "969b86b5",
   "metadata": {
    "scrolled": true
   },
   "outputs": [
    {
     "data": {
      "text/plain": [
       "<AxesSubplot:>"
      ]
     },
     "execution_count": 67,
     "metadata": {},
     "output_type": "execute_result"
    },
    {
     "data": {
      "image/png": "[encoded data removed]",
      "text/plain": [
       "<Figure size 936x432 with 2 Axes>"
      ]
     },
     "metadata": {
      "needs_background": "light"
     },
     "output_type": "display_data"
    }
   ],
   "source": [
    "plt.figure(figsize = (13, 6))\n",
    "sns.heatmap(df2.corr(), center = 0, cmap = 'Greens', annot = True, fmt = '.1g', linecolor = 'white')"
   ]
  },
  {
   "cell_type": "markdown",
   "id": "76d900e4",
   "metadata": {
    "scrolled": true
   },
   "source": [
    "### 3.1. Линейная регрессия_1"
   ]
  },
  {
   "cell_type": "markdown",
   "id": "19657491",
   "metadata": {},
   "source": [
    "Возьмем в качестве зависимой переменной **TotalRevenue** (величина суммарных расходов). В качестве регрессоров возьмем количественные переменные **Age** (возраст гостя), **MonthsSinceCreation** (срок существования аккаунта в месяцах), **AverageLeadTime** (среднее кол-во дней между бронью и заездом), **BookingsCheckedIn** (кол-во заездов (чек-инов)) и **RoomNights** (количество забронированных ночей)."
   ]
  },
  {
   "cell_type": "code",
   "execution_count": 68,
   "id": "bcce0572",
   "metadata": {
    "scrolled": true
   },
   "outputs": [
    {
     "name": "stdout",
     "output_type": "stream",
     "text": [
      "                            OLS Regression Results                            \n",
      "==============================================================================\n",
      "Dep. Variable:           TotalRevenue   R-squared:                       0.454\n",
      "Model:                            OLS   Adj. R-squared:                  0.454\n",
      "Method:                 Least Squares   F-statistic:                 1.002e+04\n",
      "Date:                Wed, 14 Dec 2022   Prob (F-statistic):               0.00\n",
      "Time:                        16:54:09   Log-Likelihood:            -4.0085e+05\n",
      "No. Observations:               60165   AIC:                         8.017e+05\n",
      "Df Residuals:                   60159   BIC:                         8.018e+05\n",
      "Df Model:                           5                                         \n",
      "Covariance Type:            nonrobust                                         \n",
      "=======================================================================================\n",
      "                          coef    std err          t      P>|t|      [0.025      0.975]\n",
      "---------------------------------------------------------------------------------------\n",
      "const                 233.7276      3.763     62.108      0.000     226.352     241.104\n",
      "Age                    -0.2516      0.055     -4.595      0.000      -0.359      -0.144\n",
      "AverageLeadTime        -0.0230      0.009     -2.592      0.010      -0.040      -0.006\n",
      "MonthsSinceCreation    -1.0960      0.031    -35.680      0.000      -1.156      -1.036\n",
      "BookingsCheckedIn     -67.9444      2.262    -30.035      0.000     -72.378     -63.511\n",
      "RoomNights            106.2920      0.490    217.036      0.000     105.332     107.252\n",
      "==============================================================================\n",
      "Omnibus:                    24015.904   Durbin-Watson:                   1.603\n",
      "Prob(Omnibus):                  0.000   Jarque-Bera (JB):         23810401.875\n",
      "Skew:                          -0.269   Prob(JB):                         0.00\n",
      "Kurtosis:                     100.456   Cond. No.                         699.\n",
      "==============================================================================\n",
      "\n",
      "Notes:\n",
      "[1] Standard Errors assume that the covariance matrix of the errors is correctly specified.\n"
     ]
    }
   ],
   "source": [
    "X_mult = df[['Age', 'AverageLeadTime', 'MonthsSinceCreation', 'BookingsCheckedIn', 'RoomNights']]\n",
    "y = df['TotalRevenue']\n",
    "X_constant = sm.add_constant(X_mult)\n",
    "\n",
    "mod = sm.OLS(y, X_constant)\n",
    "res = mod.fit()\n",
    "print(res.summary())"
   ]
  },
  {
   "cell_type": "markdown",
   "id": "4c32352c",
   "metadata": {},
   "source": [
    "Все переменные **статистически значимы** на уровне значимости 0.05. Из интересных результатов: мы видим, что **при росте числа забронированных ночей (RoomNights) на 1, суммарные расходы вырастают примерно на 106 евро**. Это логично, поскольку суммарные расходы - это сумма общих расходов (стандартные + доп.) за время существования аккаунта гостя, поэтому с увеличением кол-ва забронированных ночей растет и сумма расходов. Также интересно, что **если среднее время между бронью и заездом в номер вырастает на 1 день, то суммарные доходы падают на 0.02 евро** (такая маленькая сумма, т.к. всего 1 день, большее количество дней будет более значимым), но в целом можно предположить, что если человек бронирует номер сильно заранее (т.е. кол-во дней между бронью и заездом большое), то номер его суммарные расходы будут ниже - это логично, поскольку обычно чем ближе дата заезда, тем дороже номер."
   ]
  },
  {
   "cell_type": "markdown",
   "id": "a4cc2e62",
   "metadata": {},
   "source": [
    "### Проверка остатков Линейной регрессии_1 на нормальность"
   ]
  },
  {
   "cell_type": "markdown",
   "id": "85652a9f",
   "metadata": {},
   "source": [
    "Для удобства сначала построим Линейную регрессию_1 с помощью другой команды."
   ]
  },
  {
   "cell_type": "code",
   "execution_count": 69,
   "id": "d5656de4",
   "metadata": {},
   "outputs": [
    {
     "name": "stdout",
     "output_type": "stream",
     "text": [
      "[-2.51617517e-01 -2.29605615e-02 -1.09596805e+00 -6.79444005e+01\n",
      "  1.06291952e+02]\n",
      "233.72761368201418\n",
      "0.454335759680202\n"
     ]
    }
   ],
   "source": [
    "from sklearn.linear_model import LinearRegression\n",
    "reg = LinearRegression().fit(X_mult, y)\n",
    "print(reg.coef_)\n",
    "print(reg.intercept_)\n",
    "print(reg.score(X_mult, y))"
   ]
  },
  {
   "cell_type": "code",
   "execution_count": 70,
   "id": "658f79f6",
   "metadata": {},
   "outputs": [],
   "source": [
    "y_pred = reg.predict(X_mult)"
   ]
  },
  {
   "cell_type": "code",
   "execution_count": 71,
   "id": "c6f96d94",
   "metadata": {},
   "outputs": [
    {
     "data": {
      "text/plain": [
       "Text(0, 0.5, 'Predicted values')"
      ]
     },
     "execution_count": 71,
     "metadata": {},
     "output_type": "execute_result"
    },
    {
     "data": {
      "image/png": "[encoded data removed]",
      "text/plain": [
       "<Figure size 432x288 with 1 Axes>"
      ]
     },
     "metadata": {
      "needs_background": "light"
     },
     "output_type": "display_data"
    }
   ],
   "source": [
    "plt.scatter(y, y_pred, color = 'g')\n",
    "plt.xlabel('Actual values')\n",
    "plt.ylabel('Predicted values')"
   ]
  },
  {
   "cell_type": "code",
   "execution_count": 72,
   "id": "2c7c07c5",
   "metadata": {},
   "outputs": [],
   "source": [
    "err = y - y_pred\n",
    "err_d = pd.DataFrame(data = err)"
   ]
  },
  {
   "cell_type": "code",
   "execution_count": 73,
   "id": "099ded73",
   "metadata": {
    "scrolled": true
   },
   "outputs": [
    {
     "data": {
      "text/plain": [
       "<Figure size 432x288 with 0 Axes>"
      ]
     },
     "execution_count": 73,
     "metadata": {},
     "output_type": "execute_result"
    },
    {
     "data": {
      "image/png": "[encoded data removed]",
      "text/plain": [
       "<Figure size 432x288 with 1 Axes>"
      ]
     },
     "metadata": {
      "needs_background": "light"
     },
     "output_type": "display_data"
    },
    {
     "data": {
      "text/plain": [
       "<Figure size 432x288 with 0 Axes>"
      ]
     },
     "metadata": {},
     "output_type": "display_data"
    }
   ],
   "source": [
    "stats.probplot(err, plot = plt)\n",
    "plt.figure()"
   ]
  },
  {
   "cell_type": "markdown",
   "id": "328a2443",
   "metadata": {},
   "source": [
    "Можем видеть, что **распределение остатков не нормальное**."
   ]
  },
  {
   "cell_type": "code",
   "execution_count": 74,
   "id": "f536165a",
   "metadata": {},
   "outputs": [
    {
     "name": "stdout",
     "output_type": "stream",
     "text": [
      "p-value 0.0\n"
     ]
    }
   ],
   "source": [
    "D, p = stats.kstest(err, 'norm')\n",
    "print('p-value', p)"
   ]
  },
  {
   "cell_type": "markdown",
   "id": "11ff94fb",
   "metadata": {},
   "source": [
    "**Критерий Колмогорова-Смирнова подтверждает ненормальность распределения остатков**. С этим можно бороться нормализацией (логарифмирование, кв./куб. корень, z-score normalization, min/max normalization)."
   ]
  },
  {
   "cell_type": "code",
   "execution_count": 75,
   "id": "e0b1c744",
   "metadata": {},
   "outputs": [
    {
     "data": {
      "text/plain": [
       "<AxesSubplot:xlabel='TotalRevenue', ylabel='Count'>"
      ]
     },
     "execution_count": 75,
     "metadata": {},
     "output_type": "execute_result"
    },
    {
     "data": {
      "image/png": "[encoded data removed]",
      "text/plain": [
       "<Figure size 432x288 with 1 Axes>"
      ]
     },
     "metadata": {
      "needs_background": "light"
     },
     "output_type": "display_data"
    }
   ],
   "source": [
    "sns.histplot(err, kde=True)"
   ]
  },
  {
   "cell_type": "code",
   "execution_count": 76,
   "id": "96fa27d2",
   "metadata": {},
   "outputs": [
    {
     "name": "stdout",
     "output_type": "stream",
     "text": [
      "Эксцесс 97.45640743736209\n",
      "Асимметрия -0.26915895656143\n"
     ]
    }
   ],
   "source": [
    "from scipy.stats import kurtosis\n",
    "from scipy.stats import skew\n",
    "\n",
    "print('Эксцесс', kurtosis(err))\n",
    "print('Асимметрия', skew(err))"
   ]
  },
  {
   "cell_type": "markdown",
   "id": "8f602246",
   "metadata": {},
   "source": [
    "Как мы можем видеть, показатель асимметрии близок к нулю, однако показатель эксцесса очень высокий."
   ]
  },
  {
   "cell_type": "markdown",
   "id": "5f9c581f",
   "metadata": {},
   "source": [
    "### Метрики качества Линейной регрессии_1"
   ]
  },
  {
   "cell_type": "code",
   "execution_count": 77,
   "id": "dbb94633",
   "metadata": {},
   "outputs": [
    {
     "name": "stdout",
     "output_type": "stream",
     "text": [
      "MAE = 129.12834009929858\n",
      "RMSE = 35854.78812925058\n",
      "R2 = 0.454335759680202\n"
     ]
    }
   ],
   "source": [
    "from sklearn.metrics import mean_absolute_error\n",
    "from sklearn.metrics import mean_squared_error\n",
    "from sklearn.metrics import r2_score\n",
    "\n",
    "print('MAE = %s' % mean_absolute_error(reg.predict(X_mult),y))\n",
    "print('RMSE = %s' % mean_squared_error(reg.predict(X_mult),y))\n",
    "print('R2 = %s' % r2_score(y, y_pred))"
   ]
  },
  {
   "cell_type": "markdown",
   "id": "b3c58420",
   "metadata": {},
   "source": [
    "### Убираем выбросы из Линейной регресии_1"
   ]
  },
  {
   "cell_type": "markdown",
   "id": "b57a7bba",
   "metadata": {},
   "source": [
    "Качество полученное модели невысокое. Как мы можем видеть по **коэффициенту детерминации (R2)**, **выбранные регрессоры объясняют 45% изменений зависимой переменной**. Показатель **RMSE очень высокий**. Можно попробовать еще раз убрать выбросы - возможно, в таком случае метрика качества улучшится."
   ]
  },
  {
   "cell_type": "code",
   "execution_count": 78,
   "id": "272fb130",
   "metadata": {},
   "outputs": [
    {
     "name": "stdout",
     "output_type": "stream",
     "text": [
      "Нижняя граница = -223.4867726998787\n",
      "Верняя граница = 1020.7325066654665\n"
     ]
    },
    {
     "data": {
      "text/plain": [
       "(2257, 21)"
      ]
     },
     "execution_count": 78,
     "metadata": {},
     "output_type": "execute_result"
    }
   ],
   "source": [
    "mean_tot = df['TotalRevenue'].mean()\n",
    "std_tot = df['TotalRevenue'].std()\n",
    "std_outlier_threshold_bottom_tot = mean_tot - 2.5 * std_tot\n",
    "std_outlier_threshold_up_tot = mean_lodg + 2.5 * std_tot\n",
    "print('Нижняя граница =', std_outlier_threshold_bottom_tot)\n",
    "print('Верняя граница =', std_outlier_threshold_up_tot)\n",
    "df[df['TotalRevenue'] > std_outlier_threshold_up_tot].shape"
   ]
  },
  {
   "cell_type": "markdown",
   "id": "9fb30bfb",
   "metadata": {},
   "source": [
    "Метод 2.5 среднеквадратических отклонений выявил **2257 выбросов**, удалим их."
   ]
  },
  {
   "cell_type": "code",
   "execution_count": 79,
   "id": "7ec526db",
   "metadata": {},
   "outputs": [],
   "source": [
    "df_clean = df[df['TotalRevenue'] <= std_outlier_threshold_up_tot]"
   ]
  },
  {
   "cell_type": "markdown",
   "id": "964eb23d",
   "metadata": {},
   "source": [
    "### 3.2. Линейная регрессия_2"
   ]
  },
  {
   "cell_type": "markdown",
   "id": "0dc2d614",
   "metadata": {},
   "source": [
    "То же самое, что Линейная регрессия_1, только на данных, очищенных от выбросов."
   ]
  },
  {
   "cell_type": "code",
   "execution_count": 80,
   "id": "1f72e05b",
   "metadata": {},
   "outputs": [
    {
     "name": "stdout",
     "output_type": "stream",
     "text": [
      "[-2.51617517e-01 -2.29605615e-02 -1.09596805e+00 -6.79444005e+01\n",
      "  1.06291952e+02]\n",
      "233.72761368201418\n",
      "0.47139266300014204\n"
     ]
    }
   ],
   "source": [
    "X_mult_clean = df_clean[['Age', 'AverageLeadTime', 'MonthsSinceCreation', 'BookingsCheckedIn', 'RoomNights']]\n",
    "y_clean = df_clean['TotalRevenue']\n",
    "reg_clean = LinearRegression().fit(X_mult_clean, y_clean)\n",
    "print(reg.coef_)\n",
    "print(reg.intercept_)\n",
    "print(reg.score(X_mult_clean, y_clean))"
   ]
  },
  {
   "cell_type": "code",
   "execution_count": 81,
   "id": "eb7afa61",
   "metadata": {},
   "outputs": [],
   "source": [
    "y_pred_clean = reg.predict(X_mult_clean)"
   ]
  },
  {
   "cell_type": "markdown",
   "id": "83e25917",
   "metadata": {},
   "source": [
    "### Метрики качества Линейной регрессии_2"
   ]
  },
  {
   "cell_type": "code",
   "execution_count": 82,
   "id": "91aed35f",
   "metadata": {},
   "outputs": [
    {
     "name": "stdout",
     "output_type": "stream",
     "text": [
      "MAE = 113.06811409527182\n",
      "RMSE = 23706.079467027615\n",
      "R2 = 0.47139266300014204\n"
     ]
    }
   ],
   "source": [
    "print('MAE = %s' % mean_absolute_error(reg.predict(X_mult_clean),y_clean))\n",
    "print('RMSE = %s' % mean_squared_error(reg.predict(X_mult_clean),y_clean))\n",
    "print('R2 = %s' % r2_score(y_clean, y_pred_clean))"
   ]
  },
  {
   "cell_type": "markdown",
   "id": "e29198e5",
   "metadata": {},
   "source": [
    "Можем заметить, что **R2** немного вырос - с 45% до 47%. Метрика **RMSE** все еще очень высокая, но ее значение уменьшилось. Коэффициент **MAE** также уменьшился, что говорит о том, что модель немного улучшилась по сравнению с предыдущей."
   ]
  },
  {
   "cell_type": "markdown",
   "id": "2343082c",
   "metadata": {},
   "source": [
    "### 3.3. Линейная регрессия_3"
   ]
  },
  {
   "cell_type": "markdown",
   "id": "aca58b01",
   "metadata": {},
   "source": [
    "Попробуем преобразовать данные с помощью **Z-score нормализации** - это преобразование позволяет сгладить данные и избавить их от выбросов, поэтому делаем это на данных из первой модели, а не clean."
   ]
  },
  {
   "cell_type": "code",
   "execution_count": 83,
   "id": "9487f3f9",
   "metadata": {},
   "outputs": [],
   "source": [
    "df['TotalRevenueZScore'] = scipy.stats.zscore(df['TotalRevenue'])"
   ]
  },
  {
   "cell_type": "code",
   "execution_count": 84,
   "id": "a7fd3c63",
   "metadata": {},
   "outputs": [
    {
     "name": "stdout",
     "output_type": "stream",
     "text": [
      "[-2.51617517e-01 -2.29605615e-02 -1.09596805e+00 -6.79444005e+01\n",
      "  1.06291952e+02]\n",
      "233.72761368201418\n",
      "-203810.4805263918\n"
     ]
    }
   ],
   "source": [
    "X_mult = df[['Age', 'AverageLeadTime', 'MonthsSinceCreation', 'BookingsCheckedIn', 'RoomNights']]\n",
    "y_zscore = df['TotalRevenueZScore']\n",
    "reg_clean = LinearRegression().fit(X_mult, y_zscore)\n",
    "print(reg.coef_)\n",
    "print(reg.intercept_)\n",
    "print(reg.score(X_mult, y_zscore))"
   ]
  },
  {
   "cell_type": "markdown",
   "id": "f52f33f2",
   "metadata": {},
   "source": [
    "### Метрики качества Линейной регрессии_3"
   ]
  },
  {
   "cell_type": "code",
   "execution_count": 85,
   "id": "32153704",
   "metadata": {},
   "outputs": [
    {
     "name": "stdout",
     "output_type": "stream",
     "text": [
      "MAE = 417.3603686528712\n",
      "RMSE = 203811.4805263917\n",
      "R2 = -203810.4805263918\n"
     ]
    }
   ],
   "source": [
    "print('MAE = %s' % mean_absolute_error(reg.predict(X_mult),y_zscore))\n",
    "print('RMSE = %s' % mean_squared_error(reg.predict(X_mult),y_zscore))\n",
    "print('R2 = %s' % r2_score(y_zscore, y_pred))"
   ]
  },
  {
   "cell_type": "markdown",
   "id": "7b24c0c6",
   "metadata": {},
   "source": [
    "Z-score нормализация негативно повлияла на метрики качества модели (показатель RMSE уменьшился, MAE вырос в 4 раза, а R2 и вовсе стал отрицательным, чего не должно быть). Поэтому **наилучший вариант** из построенных линейных регрессий - **Линейная регрессия_2**."
   ]
  },
  {
   "cell_type": "markdown",
   "id": "79ca1513",
   "metadata": {},
   "source": [
    "### 3.4. Построение Линейной регрессии_2 на тестовой и валидационной выборках"
   ]
  },
  {
   "cell_type": "code",
   "execution_count": 86,
   "id": "587021f0",
   "metadata": {
    "scrolled": true
   },
   "outputs": [
    {
     "name": "stdout",
     "output_type": "stream",
     "text": [
      "Ошибка на валидации 21235.995\n",
      "Ошибка на обучении 23460.917\n"
     ]
    }
   ],
   "source": [
    "from sklearn.model_selection import train_test_split\n",
    "\n",
    "X = df_clean[['Age', 'AverageLeadTime', 'MonthsSinceCreation', 'BookingsCheckedIn', 'RoomNights']]\n",
    "y = df_clean['TotalRevenue']\n",
    "X_train, X_valid, y_train, y_valid = train_test_split(X, y, test_size=0.2, random_state=10)\n",
    "model = LinearRegression().fit(X_train, y_train)\n",
    "y_pred = model.predict(X_valid)\n",
    "y_pred_train = model.predict(X_train)\n",
    "error_valid = mean_squared_error(y_valid, y_pred)\n",
    "error_train = mean_squared_error(y_train, y_pred_train)\n",
    "print(\n",
    "        \"Ошибка на валидации %.3f\\nОшибка на обучении %.3f\" %\n",
    "        (error_valid, error_train))"
   ]
  },
  {
   "cell_type": "markdown",
   "id": "118d5095",
   "metadata": {},
   "source": [
    "Как мы можем видеть, значения ошибок достаточно близки друг к другу, на валидации ошибка чуть меньше."
   ]
  },
  {
   "cell_type": "markdown",
   "id": "9f23d982",
   "metadata": {},
   "source": [
    "## 4. Логистическая регрессия"
   ]
  },
  {
   "cell_type": "markdown",
   "id": "b161b066",
   "metadata": {},
   "source": [
    "В качестве зависимой переменной у нас будет бинарная переменная на основе **TotalRevenue**. Она будет принимать значение 1, если суммарные расходы гостя выше среднего и 0, если ниже."
   ]
  },
  {
   "cell_type": "markdown",
   "id": "76589540",
   "metadata": {},
   "source": [
    "В качестве регрессоров возьмем количественные переменные **Age**, **MonthsSinceCreation**, **AverageLeadTime**, **BookingsCheckedIn**, **RoomNights**, категориальную переменную **ChannelDistribution**, а также бинарные переменные **SRBathtub**, **SRShower**, **SRCrib**, **SRKingSizeBed** и **SRTwinBed**."
   ]
  },
  {
   "cell_type": "code",
   "execution_count": 87,
   "id": "617bc7e8",
   "metadata": {},
   "outputs": [],
   "source": [
    "from sklearn.linear_model import LogisticRegression\n",
    "from sklearn import metrics\n",
    "from sklearn.metrics import accuracy_score, f1_score, recall_score, precision_score, confusion_matrix, plot_confusion_matrix, plot_roc_curve"
   ]
  },
  {
   "cell_type": "markdown",
   "id": "fa260f3e",
   "metadata": {},
   "source": [
    "### 4.1. Преобразование переменных"
   ]
  },
  {
   "cell_type": "markdown",
   "id": "8de46282",
   "metadata": {},
   "source": [
    "Поработаем с переменной **Channel Distribution**. Сделаем так, чтобы у нас было 2 категории: самостоятельное бронирование (через сайт, агрегаторы или офис продаж) и бронирование через туроператора."
   ]
  },
  {
   "cell_type": "code",
   "execution_count": 88,
   "id": "8b2ea584",
   "metadata": {},
   "outputs": [],
   "source": [
    "def get_channel_cat(channel):\n",
    "    if channel != 'Travel Agent/Operator':\n",
    "        return 'SelfBooking'\n",
    "    elif channel == 'Travel Agent/Operator':\n",
    "        return 'Travel Agent/Operator'\n",
    "    else:\n",
    "        return channel"
   ]
  },
  {
   "cell_type": "code",
   "execution_count": 89,
   "id": "c7c468ec",
   "metadata": {},
   "outputs": [],
   "source": [
    "df_clean['BookingChannel'] = df_clean['DistributionChannel'].apply(get_channel_cat)"
   ]
  },
  {
   "cell_type": "code",
   "execution_count": 90,
   "id": "ae42f311",
   "metadata": {},
   "outputs": [
    {
     "data": {
      "text/plain": [
       "Travel Agent/Operator      48020\n",
       "Direct                      7277\n",
       "Corporate                   2139\n",
       "Electronic Distribution      472\n",
       "Name: DistributionChannel, dtype: int64"
      ]
     },
     "execution_count": 90,
     "metadata": {},
     "output_type": "execute_result"
    }
   ],
   "source": [
    "df_clean['DistributionChannel'].value_counts()"
   ]
  },
  {
   "cell_type": "code",
   "execution_count": 91,
   "id": "4f943cce",
   "metadata": {
    "scrolled": true
   },
   "outputs": [
    {
     "data": {
      "text/plain": [
       "Travel Agent/Operator    48020\n",
       "SelfBooking               9888\n",
       "Name: BookingChannel, dtype: int64"
      ]
     },
     "execution_count": 91,
     "metadata": {},
     "output_type": "execute_result"
    }
   ],
   "source": [
    "df_clean['BookingChannel'].value_counts()"
   ]
  },
  {
   "cell_type": "markdown",
   "id": "682f941f",
   "metadata": {},
   "source": [
    "Видим, что все перекодировалось правильно, поэтому можем делать из новой переменной **дамми-переменную**."
   ]
  },
  {
   "cell_type": "code",
   "execution_count": 92,
   "id": "ac1b8574",
   "metadata": {},
   "outputs": [
    {
     "data": {
      "text/html": [
       "<div>\n",
       "<style scoped>\n",
       "    .dataframe tbody tr th:only-of-type {\n",
       "        vertical-align: middle;\n",
       "    }\n",
       "\n",
       "    .dataframe tbody tr th {\n",
       "        vertical-align: top;\n",
       "    }\n",
       "\n",
       "    .dataframe thead th {\n",
       "        text-align: right;\n",
       "    }\n",
       "</style>\n",
       "<table border=\"1\" class=\"dataframe\">\n",
       "  <thead>\n",
       "    <tr style=\"text-align: right;\">\n",
       "      <th></th>\n",
       "      <th>SelfBooking</th>\n",
       "      <th>Travel Agent/Operator</th>\n",
       "    </tr>\n",
       "  </thead>\n",
       "  <tbody>\n",
       "    <tr>\n",
       "      <th>0</th>\n",
       "      <td>1</td>\n",
       "      <td>0</td>\n",
       "    </tr>\n",
       "    <tr>\n",
       "      <th>1</th>\n",
       "      <td>0</td>\n",
       "      <td>1</td>\n",
       "    </tr>\n",
       "    <tr>\n",
       "      <th>3</th>\n",
       "      <td>0</td>\n",
       "      <td>1</td>\n",
       "    </tr>\n",
       "    <tr>\n",
       "      <th>5</th>\n",
       "      <td>0</td>\n",
       "      <td>1</td>\n",
       "    </tr>\n",
       "    <tr>\n",
       "      <th>7</th>\n",
       "      <td>0</td>\n",
       "      <td>1</td>\n",
       "    </tr>\n",
       "    <tr>\n",
       "      <th>...</th>\n",
       "      <td>...</td>\n",
       "      <td>...</td>\n",
       "    </tr>\n",
       "    <tr>\n",
       "      <th>83475</th>\n",
       "      <td>0</td>\n",
       "      <td>1</td>\n",
       "    </tr>\n",
       "    <tr>\n",
       "      <th>83477</th>\n",
       "      <td>0</td>\n",
       "      <td>1</td>\n",
       "    </tr>\n",
       "    <tr>\n",
       "      <th>83479</th>\n",
       "      <td>0</td>\n",
       "      <td>1</td>\n",
       "    </tr>\n",
       "    <tr>\n",
       "      <th>83482</th>\n",
       "      <td>1</td>\n",
       "      <td>0</td>\n",
       "    </tr>\n",
       "    <tr>\n",
       "      <th>83484</th>\n",
       "      <td>0</td>\n",
       "      <td>1</td>\n",
       "    </tr>\n",
       "  </tbody>\n",
       "</table>\n",
       "<p>57908 rows × 2 columns</p>\n",
       "</div>"
      ],
      "text/plain": [
       "       SelfBooking  Travel Agent/Operator\n",
       "0                1                      0\n",
       "1                0                      1\n",
       "3                0                      1\n",
       "5                0                      1\n",
       "7                0                      1\n",
       "...            ...                    ...\n",
       "83475            0                      1\n",
       "83477            0                      1\n",
       "83479            0                      1\n",
       "83482            1                      0\n",
       "83484            0                      1\n",
       "\n",
       "[57908 rows x 2 columns]"
      ]
     },
     "execution_count": 92,
     "metadata": {},
     "output_type": "execute_result"
    }
   ],
   "source": [
    "BookingChannel_Dummy = pd.get_dummies(df_clean.BookingChannel)\n",
    "BookingChannel_Dummy"
   ]
  },
  {
   "cell_type": "code",
   "execution_count": 93,
   "id": "834677b0",
   "metadata": {},
   "outputs": [
    {
     "data": {
      "text/html": [
       "<div>\n",
       "<style scoped>\n",
       "    .dataframe tbody tr th:only-of-type {\n",
       "        vertical-align: middle;\n",
       "    }\n",
       "\n",
       "    .dataframe tbody tr th {\n",
       "        vertical-align: top;\n",
       "    }\n",
       "\n",
       "    .dataframe thead th {\n",
       "        text-align: right;\n",
       "    }\n",
       "</style>\n",
       "<table border=\"1\" class=\"dataframe\">\n",
       "  <thead>\n",
       "    <tr style=\"text-align: right;\">\n",
       "      <th></th>\n",
       "      <th>Age</th>\n",
       "      <th>DaysSinceCreation</th>\n",
       "      <th>AverageLeadTime</th>\n",
       "      <th>LodgingRevenue</th>\n",
       "      <th>OtherRevenue</th>\n",
       "      <th>BookingsCanceled</th>\n",
       "      <th>BookingsNoShowed</th>\n",
       "      <th>BookingsCheckedIn</th>\n",
       "      <th>RoomNights</th>\n",
       "      <th>DistributionChannel</th>\n",
       "      <th>...</th>\n",
       "      <th>SRKingSizeBed</th>\n",
       "      <th>SRTwinBed</th>\n",
       "      <th>SRNoAlcoholInMiniBar</th>\n",
       "      <th>TotalRevenue</th>\n",
       "      <th>MonthsSinceCreation</th>\n",
       "      <th>RevenueCat</th>\n",
       "      <th>TotalRevenue_Log</th>\n",
       "      <th>BookingChannel</th>\n",
       "      <th>SelfBooking</th>\n",
       "      <th>Travel Agent/Operator</th>\n",
       "    </tr>\n",
       "  </thead>\n",
       "  <tbody>\n",
       "    <tr>\n",
       "      <th>0</th>\n",
       "      <td>51.000000</td>\n",
       "      <td>150</td>\n",
       "      <td>45</td>\n",
       "      <td>371.0</td>\n",
       "      <td>105.3</td>\n",
       "      <td>1</td>\n",
       "      <td>0</td>\n",
       "      <td>3</td>\n",
       "      <td>5</td>\n",
       "      <td>Corporate</td>\n",
       "      <td>...</td>\n",
       "      <td>0</td>\n",
       "      <td>0</td>\n",
       "      <td>0</td>\n",
       "      <td>476.3</td>\n",
       "      <td>12.50</td>\n",
       "      <td>Средние расходы</td>\n",
       "      <td>6.166048</td>\n",
       "      <td>SelfBooking</td>\n",
       "      <td>1</td>\n",
       "      <td>0</td>\n",
       "    </tr>\n",
       "    <tr>\n",
       "      <th>1</th>\n",
       "      <td>47.292878</td>\n",
       "      <td>1095</td>\n",
       "      <td>61</td>\n",
       "      <td>280.0</td>\n",
       "      <td>53.0</td>\n",
       "      <td>0</td>\n",
       "      <td>0</td>\n",
       "      <td>1</td>\n",
       "      <td>5</td>\n",
       "      <td>Travel Agent/Operator</td>\n",
       "      <td>...</td>\n",
       "      <td>0</td>\n",
       "      <td>0</td>\n",
       "      <td>0</td>\n",
       "      <td>333.0</td>\n",
       "      <td>91.25</td>\n",
       "      <td>Средние расходы</td>\n",
       "      <td>5.808142</td>\n",
       "      <td>Travel Agent/Operator</td>\n",
       "      <td>0</td>\n",
       "      <td>1</td>\n",
       "    </tr>\n",
       "  </tbody>\n",
       "</table>\n",
       "<p>2 rows × 24 columns</p>\n",
       "</div>"
      ],
      "text/plain": [
       "         Age  DaysSinceCreation  AverageLeadTime  LodgingRevenue  \\\n",
       "0  51.000000                150               45           371.0   \n",
       "1  47.292878               1095               61           280.0   \n",
       "\n",
       "   OtherRevenue  BookingsCanceled  BookingsNoShowed  BookingsCheckedIn  \\\n",
       "0         105.3                 1                 0                  3   \n",
       "1          53.0                 0                 0                  1   \n",
       "\n",
       "   RoomNights    DistributionChannel  ... SRKingSizeBed  SRTwinBed  \\\n",
       "0           5              Corporate  ...             0          0   \n",
       "1           5  Travel Agent/Operator  ...             0          0   \n",
       "\n",
       "   SRNoAlcoholInMiniBar  TotalRevenue  MonthsSinceCreation       RevenueCat  \\\n",
       "0                     0         476.3                12.50  Средние расходы   \n",
       "1                     0         333.0                91.25  Средние расходы   \n",
       "\n",
       "   TotalRevenue_Log         BookingChannel  SelfBooking Travel Agent/Operator  \n",
       "0          6.166048            SelfBooking            1                     0  \n",
       "1          5.808142  Travel Agent/Operator            0                     1  \n",
       "\n",
       "[2 rows x 24 columns]"
      ]
     },
     "execution_count": 93,
     "metadata": {},
     "output_type": "execute_result"
    }
   ],
   "source": [
    "merged = pd.concat([df_clean, BookingChannel_Dummy], axis = 1)\n",
    "merged[:2]"
   ]
  },
  {
   "cell_type": "markdown",
   "id": "99011b6c",
   "metadata": {},
   "source": [
    "Бинарные переменные мы не будем переводить в дамми, поскольку значение 1 тут имеет больший вес. "
   ]
  },
  {
   "cell_type": "markdown",
   "id": "797f4e8a",
   "metadata": {},
   "source": [
    "Создадим необходимую зависимую переменную, отсортировав значения переменной **TotalRevenue** как те, которые больше или равны среднему значению, и те, которые меньше него."
   ]
  },
  {
   "cell_type": "code",
   "execution_count": 94,
   "id": "469614ff",
   "metadata": {},
   "outputs": [
    {
     "data": {
      "text/plain": [
       "388.0241277543766"
      ]
     },
     "execution_count": 94,
     "metadata": {},
     "output_type": "execute_result"
    }
   ],
   "source": [
    "merged['TotalRevenue'].mean()"
   ]
  },
  {
   "cell_type": "code",
   "execution_count": 95,
   "id": "57dfd4b2",
   "metadata": {},
   "outputs": [],
   "source": [
    "def get_expenses_cat(revenue):\n",
    "    if revenue >= 388.0241277543766:\n",
    "        return '1'\n",
    "    elif revenue < 388.0241277543766:\n",
    "        return '0'\n",
    "    else:\n",
    "        return revenue"
   ]
  },
  {
   "cell_type": "code",
   "execution_count": 96,
   "id": "222ddf70",
   "metadata": {},
   "outputs": [],
   "source": [
    "merged['TotalRevenue_Cat'] = merged['TotalRevenue'].apply(get_expenses_cat)"
   ]
  },
  {
   "cell_type": "code",
   "execution_count": 97,
   "id": "f87f0d80",
   "metadata": {},
   "outputs": [
    {
     "data": {
      "text/plain": [
       "0    32551\n",
       "1    25357\n",
       "Name: TotalRevenue_Cat, dtype: int64"
      ]
     },
     "execution_count": 97,
     "metadata": {},
     "output_type": "execute_result"
    }
   ],
   "source": [
    "merged['TotalRevenue_Cat'].value_counts()"
   ]
  },
  {
   "cell_type": "markdown",
   "id": "419360f4",
   "metadata": {},
   "source": [
    "### 4.2. Анализ данных"
   ]
  },
  {
   "cell_type": "code",
   "execution_count": 98,
   "id": "d46c822d",
   "metadata": {},
   "outputs": [
    {
     "data": {
      "text/plain": [
       "<AxesSubplot:xlabel='TotalRevenue_Cat', ylabel='RoomNights'>"
      ]
     },
     "execution_count": 98,
     "metadata": {},
     "output_type": "execute_result"
    },
    {
     "data": {
      "image/png": "[encoded data removed]",
      "text/plain": [
       "<Figure size 432x288 with 1 Axes>"
      ]
     },
     "metadata": {
      "needs_background": "light"
     },
     "output_type": "display_data"
    }
   ],
   "source": [
    "sns.barplot(x = 'TotalRevenue_Cat', y = 'RoomNights', data = merged, estimator = np.median) "
   ]
  },
  {
   "cell_type": "markdown",
   "id": "8248d98b",
   "metadata": {},
   "source": [
    "Как мы можем видеть, у гостей с сумарными расходами выше среднего медианное значение забронированных ночей выше, чем этот же показатель у гостей с суммарными расходами ниже среднего (4 ночи против 2 ночей)."
   ]
  },
  {
   "cell_type": "code",
   "execution_count": 99,
   "id": "aa42143e",
   "metadata": {},
   "outputs": [
    {
     "data": {
      "text/plain": [
       "<AxesSubplot:xlabel='TotalRevenue_Cat', ylabel='BookingsCheckedIn'>"
      ]
     },
     "execution_count": 99,
     "metadata": {},
     "output_type": "execute_result"
    },
    {
     "data": {
      "image/png": "[encoded data removed]",
      "text/plain": [
       "<Figure size 432x288 with 1 Axes>"
      ]
     },
     "metadata": {
      "needs_background": "light"
     },
     "output_type": "display_data"
    }
   ],
   "source": [
    "sns.barplot(x = 'TotalRevenue_Cat', y = 'BookingsCheckedIn', data = merged, estimator = np.std) "
   ]
  },
  {
   "cell_type": "code",
   "execution_count": 100,
   "id": "6df60db4",
   "metadata": {},
   "outputs": [
    {
     "data": {
      "text/plain": [
       "<AxesSubplot:xlabel='TotalRevenue_Cat', ylabel='AverageLeadTime'>"
      ]
     },
     "execution_count": 100,
     "metadata": {},
     "output_type": "execute_result"
    },
    {
     "data": {
      "image/png": "[encoded data removed]",
      "text/plain": [
       "<Figure size 432x288 with 1 Axes>"
      ]
     },
     "metadata": {
      "needs_background": "light"
     },
     "output_type": "display_data"
    }
   ],
   "source": [
    "sns.barplot(x = 'TotalRevenue_Cat', y = 'AverageLeadTime', data = merged, estimator = np.mean) "
   ]
  },
  {
   "cell_type": "markdown",
   "id": "7b287695",
   "metadata": {},
   "source": [
    "Мы можем видеть, что у людей с суммарными расходами выше среднего в среднем проходит больше дней между букингом и заездом."
   ]
  },
  {
   "cell_type": "code",
   "execution_count": 101,
   "id": "f6b71606",
   "metadata": {},
   "outputs": [
    {
     "data": {
      "text/plain": [
       "<AxesSubplot:xlabel='TotalRevenue_Cat', ylabel='Age'>"
      ]
     },
     "execution_count": 101,
     "metadata": {},
     "output_type": "execute_result"
    },
    {
     "data": {
      "image/png": "[encoded data removed]",
      "text/plain": [
       "<Figure size 432x288 with 1 Axes>"
      ]
     },
     "metadata": {
      "needs_background": "light"
     },
     "output_type": "display_data"
    }
   ],
   "source": [
    "sns.barplot(x = 'TotalRevenue_Cat', y = 'Age', data = merged, estimator = np.mean) "
   ]
  },
  {
   "cell_type": "markdown",
   "id": "e1c777c8",
   "metadata": {},
   "source": [
    "Скорее всего, возраст гостя не будет влиять на попадание в ту или иную категорию суммарных расходов (выше/ниже среднего)."
   ]
  },
  {
   "cell_type": "code",
   "execution_count": 102,
   "id": "973185a9",
   "metadata": {},
   "outputs": [
    {
     "data": {
      "text/plain": [
       "<AxesSubplot:xlabel='TotalRevenue_Cat', ylabel='MonthsSinceCreation'>"
      ]
     },
     "execution_count": 102,
     "metadata": {},
     "output_type": "execute_result"
    },
    {
     "data": {
      "image/png": "[encoded data removed]",
      "text/plain": [
       "<Figure size 432x288 with 1 Axes>"
      ]
     },
     "metadata": {
      "needs_background": "light"
     },
     "output_type": "display_data"
    }
   ],
   "source": [
    "sns.barplot(x = 'TotalRevenue_Cat', y = 'MonthsSinceCreation', data = merged, estimator = np.mean) "
   ]
  },
  {
   "cell_type": "markdown",
   "id": "61fa0245",
   "metadata": {},
   "source": [
    "Как мы можем видеть, средний возраст аккаунта в месяцах выше у людей с суммарными расходами ниже среднего. Возможно, они менее активно пользуются своим аккаунтом / менее активно бронируют номера по сравнению с гостями, чьи суммарные расходы выше среднего."
   ]
  },
  {
   "cell_type": "markdown",
   "id": "744de78c",
   "metadata": {},
   "source": [
    "Посмотрим на **формат** наших данных."
   ]
  },
  {
   "cell_type": "code",
   "execution_count": 103,
   "id": "9bccee4b",
   "metadata": {
    "scrolled": true
   },
   "outputs": [
    {
     "name": "stdout",
     "output_type": "stream",
     "text": [
      "<class 'pandas.core.frame.DataFrame'>\n",
      "Int64Index: 57908 entries, 0 to 83484\n",
      "Data columns (total 25 columns):\n",
      " #   Column                 Non-Null Count  Dtype   \n",
      "---  ------                 --------------  -----   \n",
      " 0   Age                    57908 non-null  float64 \n",
      " 1   DaysSinceCreation      57908 non-null  int64   \n",
      " 2   AverageLeadTime        57908 non-null  int64   \n",
      " 3   LodgingRevenue         57908 non-null  float64 \n",
      " 4   OtherRevenue           57908 non-null  float64 \n",
      " 5   BookingsCanceled       57908 non-null  int64   \n",
      " 6   BookingsNoShowed       57908 non-null  int64   \n",
      " 7   BookingsCheckedIn      57908 non-null  int64   \n",
      " 8   RoomNights             57908 non-null  int64   \n",
      " 9   DistributionChannel    57908 non-null  category\n",
      " 10  MarketSegment          57908 non-null  object  \n",
      " 11  SRBathtub              57908 non-null  int64   \n",
      " 12  SRShower               57908 non-null  int64   \n",
      " 13  SRCrib                 57908 non-null  int64   \n",
      " 14  SRKingSizeBed          57908 non-null  int64   \n",
      " 15  SRTwinBed              57908 non-null  int64   \n",
      " 16  SRNoAlcoholInMiniBar   57908 non-null  int64   \n",
      " 17  TotalRevenue           57908 non-null  float64 \n",
      " 18  MonthsSinceCreation    57908 non-null  float64 \n",
      " 19  RevenueCat             57908 non-null  object  \n",
      " 20  TotalRevenue_Log       57908 non-null  float64 \n",
      " 21  BookingChannel         57908 non-null  object  \n",
      " 22  SelfBooking            57908 non-null  uint8   \n",
      " 23  Travel Agent/Operator  57908 non-null  uint8   \n",
      " 24  TotalRevenue_Cat       57908 non-null  object  \n",
      "dtypes: category(1), float64(6), int64(12), object(4), uint8(2)\n",
      "memory usage: 10.3+ MB\n"
     ]
    }
   ],
   "source": [
    "merged.info()"
   ]
  },
  {
   "cell_type": "markdown",
   "id": "dc66cf3c",
   "metadata": {},
   "source": [
    "Переведем переменную **TotalRevenue_Cat** в формат int."
   ]
  },
  {
   "cell_type": "code",
   "execution_count": 104,
   "id": "f8d5d327",
   "metadata": {},
   "outputs": [],
   "source": [
    "merged['TotalRevenue_Cat'] = merged['TotalRevenue_Cat'].astype(int)"
   ]
  },
  {
   "cell_type": "code",
   "execution_count": 105,
   "id": "7a12209c",
   "metadata": {},
   "outputs": [
    {
     "data": {
      "text/plain": [
       "0    32551\n",
       "1    25357\n",
       "Name: TotalRevenue_Cat, dtype: int64"
      ]
     },
     "execution_count": 105,
     "metadata": {},
     "output_type": "execute_result"
    }
   ],
   "source": [
    "merged['TotalRevenue_Cat'].value_counts()"
   ]
  },
  {
   "cell_type": "markdown",
   "id": "16d1e768",
   "metadata": {},
   "source": [
    "### 4.3. Построение логистической регрессии"
   ]
  },
  {
   "cell_type": "markdown",
   "id": "791c1877",
   "metadata": {},
   "source": [
    "Построим логистическую регрессию первым способом. Категориальную переменную включаем только одну, чтобы не было мультиколлинеарности. Посмотрим, какие регрессоры значимы, а какие нет."
   ]
  },
  {
   "cell_type": "code",
   "execution_count": 106,
   "id": "b526c45f",
   "metadata": {},
   "outputs": [
    {
     "name": "stdout",
     "output_type": "stream",
     "text": [
      "Optimization terminated successfully.\n",
      "         Current function value: 0.446129\n",
      "         Iterations 7\n",
      "                           Logit Regression Results                           \n",
      "==============================================================================\n",
      "Dep. Variable:                      y   No. Observations:                57908\n",
      "Model:                          Logit   Df Residuals:                    57896\n",
      "Method:                           MLE   Df Model:                           11\n",
      "Date:                Wed, 14 Dec 2022   Pseudo R-squ.:                  0.3491\n",
      "Time:                        16:54:16   Log-Likelihood:                -25834.\n",
      "converged:                       True   LL-Null:                       -39691.\n",
      "Covariance Type:            nonrobust   LLR p-value:                     0.000\n",
      "=======================================================================================\n",
      "                          coef    std err          z      P>|z|      [0.025      0.975]\n",
      "---------------------------------------------------------------------------------------\n",
      "const                  -3.2729      0.082    -40.144      0.000      -3.433      -3.113\n",
      "Age                    -0.0014      0.001     -1.746      0.081      -0.003       0.000\n",
      "MonthsSinceCreation    -0.0147      0.000    -33.274      0.000      -0.016      -0.014\n",
      "AverageLeadTime        -0.0012      0.000     -9.742      0.000      -0.001      -0.001\n",
      "BookingsCheckedIn      -0.5181      0.065     -7.997      0.000      -0.645      -0.391\n",
      "RoomNights              1.4138      0.012    117.263      0.000       1.390       1.437\n",
      "SelfBooking             0.3690      0.032     11.621      0.000       0.307       0.431\n",
      "SRBathtub              -0.5249      0.230     -2.287      0.022      -0.975      -0.075\n",
      "SRShower                0.3442      0.280      1.228      0.220      -0.205       0.894\n",
      "SRCrib                  0.4107      0.117      3.507      0.000       0.181       0.640\n",
      "SRKingSizeBed           0.3993      0.024     16.403      0.000       0.352       0.447\n",
      "SRTwinBed               0.5253      0.033     15.742      0.000       0.460       0.591\n",
      "=======================================================================================\n"
     ]
    }
   ],
   "source": [
    "X = merged[['Age', 'MonthsSinceCreation', 'AverageLeadTime', 'BookingsCheckedIn', 'RoomNights',\\\n",
    "            'SelfBooking',\\\n",
    "            'SRBathtub', 'SRShower', 'SRCrib', 'SRKingSizeBed', 'SRTwinBed']]\n",
    "y = merged['TotalRevenue_Cat'].values\n",
    "X_constant = sm.add_constant(X)\n",
    "logit = sm.Logit(y, X_constant).fit()\n",
    "print(logit.summary())"
   ]
  },
  {
   "cell_type": "markdown",
   "id": "7b14d9ec",
   "metadata": {},
   "source": [
    "Уберем регрессоры **Age** и **SRShower**, поскольку они **незначимы** на уровне значимости 0.05."
   ]
  },
  {
   "cell_type": "code",
   "execution_count": 107,
   "id": "3fccfc86",
   "metadata": {},
   "outputs": [
    {
     "name": "stdout",
     "output_type": "stream",
     "text": [
      "Optimization terminated successfully.\n",
      "         Current function value: 0.446169\n",
      "         Iterations 7\n",
      "                           Logit Regression Results                           \n",
      "==============================================================================\n",
      "Dep. Variable:                      y   No. Observations:                57908\n",
      "Model:                          Logit   Df Residuals:                    57898\n",
      "Method:                           MLE   Df Model:                            9\n",
      "Date:                Wed, 14 Dec 2022   Pseudo R-squ.:                  0.3490\n",
      "Time:                        16:54:16   Log-Likelihood:                -25837.\n",
      "converged:                       True   LL-Null:                       -39691.\n",
      "Covariance Type:            nonrobust   LLR p-value:                     0.000\n",
      "=======================================================================================\n",
      "                          coef    std err          z      P>|z|      [0.025      0.975]\n",
      "---------------------------------------------------------------------------------------\n",
      "const                  -3.3265      0.075    -44.076      0.000      -3.474      -3.179\n",
      "MonthsSinceCreation    -0.0148      0.000    -33.417      0.000      -0.016      -0.014\n",
      "AverageLeadTime        -0.0013      0.000    -10.451      0.000      -0.002      -0.001\n",
      "BookingsCheckedIn      -0.5228      0.065     -8.085      0.000      -0.650      -0.396\n",
      "RoomNights              1.4138      0.012    117.295      0.000       1.390       1.437\n",
      "SelfBooking             0.3706      0.032     11.676      0.000       0.308       0.433\n",
      "SRBathtub              -0.5216      0.229     -2.274      0.023      -0.971      -0.072\n",
      "SRCrib                  0.4226      0.117      3.617      0.000       0.194       0.652\n",
      "SRKingSizeBed           0.4003      0.024     16.452      0.000       0.353       0.448\n",
      "SRTwinBed               0.5266      0.033     15.785      0.000       0.461       0.592\n",
      "=======================================================================================\n"
     ]
    }
   ],
   "source": [
    "X = merged[['MonthsSinceCreation', 'AverageLeadTime', 'BookingsCheckedIn', 'RoomNights',\\\n",
    "            'SelfBooking',\\\n",
    "            'SRBathtub', 'SRCrib', 'SRKingSizeBed', 'SRTwinBed']]\n",
    "y = merged['TotalRevenue_Cat'].values\n",
    "X_constant = sm.add_constant(X)\n",
    "logit = sm.Logit(y, X_constant).fit()\n",
    "print(logit.summary())"
   ]
  },
  {
   "cell_type": "markdown",
   "id": "b9cc65ab",
   "metadata": {},
   "source": [
    "**Все регрессоры значимы** на уровне значимости 0.05. Метрика **PseudoR2** равна **0.349**."
   ]
  },
  {
   "cell_type": "markdown",
   "id": "5036d0f4",
   "metadata": {},
   "source": [
    "### 4.4. Построение логистической регресии с применением тренировочной и валидационной выборок"
   ]
  },
  {
   "cell_type": "code",
   "execution_count": 108,
   "id": "eec8bba4",
   "metadata": {},
   "outputs": [],
   "source": [
    "X = merged[['MonthsSinceCreation', 'AverageLeadTime', 'BookingsCheckedIn', 'RoomNights',\\\n",
    "            'SelfBooking',\\\n",
    "            'SRBathtub', 'SRCrib', 'SRKingSizeBed', 'SRTwinBed']]\n",
    "y = merged['TotalRevenue_Cat'].values\n",
    "X_train, X_valid, y_train, y_valid = train_test_split(X, y, test_size=0.2, random_state=10)"
   ]
  },
  {
   "cell_type": "code",
   "execution_count": 109,
   "id": "735e2fd5",
   "metadata": {},
   "outputs": [
    {
     "data": {
      "text/plain": [
       "(46326, 9)"
      ]
     },
     "execution_count": 109,
     "metadata": {},
     "output_type": "execute_result"
    }
   ],
   "source": [
    "X_train.shape"
   ]
  },
  {
   "cell_type": "code",
   "execution_count": 110,
   "id": "2637f16b",
   "metadata": {
    "scrolled": true
   },
   "outputs": [
    {
     "data": {
      "text/plain": [
       "(11582, 9)"
      ]
     },
     "execution_count": 110,
     "metadata": {},
     "output_type": "execute_result"
    }
   ],
   "source": [
    "X_valid.shape"
   ]
  },
  {
   "cell_type": "markdown",
   "id": "3ff955e5",
   "metadata": {},
   "source": [
    "Как мы можем видеть, данные верно разделились в пропорции 80/20 (80% тренировочная выборка, 20% - валидационная)."
   ]
  },
  {
   "cell_type": "markdown",
   "id": "d92f0f1a",
   "metadata": {},
   "source": [
    "Нормируем данные."
   ]
  },
  {
   "cell_type": "code",
   "execution_count": 111,
   "id": "a4e12f19",
   "metadata": {},
   "outputs": [],
   "source": [
    "from sklearn.preprocessing import StandardScaler\n",
    "z_score_scaler = StandardScaler()\n",
    "z_score_scaler.fit(X_train)\n",
    "X_train_scaled = z_score_scaler.transform(X_train)\n",
    "X_valid_scaled = z_score_scaler.transform(X_valid)"
   ]
  },
  {
   "cell_type": "markdown",
   "id": "7365499b",
   "metadata": {},
   "source": [
    "Строим модель."
   ]
  },
  {
   "cell_type": "code",
   "execution_count": 112,
   "id": "f3f1fa7a",
   "metadata": {},
   "outputs": [],
   "source": [
    "log_model = LogisticRegression().fit(X_train_scaled, y_train)\n",
    "y_pred = log_model.predict(X_valid_scaled)\n",
    "y_pred_probs = log_model.predict_proba(X_valid_scaled)"
   ]
  },
  {
   "cell_type": "code",
   "execution_count": 113,
   "id": "5a821b00",
   "metadata": {},
   "outputs": [
    {
     "data": {
      "text/plain": [
       "array([0, 0, 1, ..., 0, 1, 1])"
      ]
     },
     "execution_count": 113,
     "metadata": {},
     "output_type": "execute_result"
    }
   ],
   "source": [
    "y_pred"
   ]
  },
  {
   "cell_type": "code",
   "execution_count": 114,
   "id": "59978083",
   "metadata": {
    "scrolled": true
   },
   "outputs": [
    {
     "data": {
      "text/plain": [
       "array([[0.95790597, 0.04209403],\n",
       "       [0.70949296, 0.29050704],\n",
       "       [0.2775069 , 0.7224931 ],\n",
       "       ...,\n",
       "       [0.93867368, 0.06132632],\n",
       "       [0.06724143, 0.93275857],\n",
       "       [0.04053373, 0.95946627]])"
      ]
     },
     "execution_count": 114,
     "metadata": {},
     "output_type": "execute_result"
    }
   ],
   "source": [
    "y_pred_probs"
   ]
  },
  {
   "cell_type": "markdown",
   "id": "99bf565d",
   "metadata": {},
   "source": [
    "### Коэффициенты модели и интерпретация результатов"
   ]
  },
  {
   "cell_type": "markdown",
   "id": "9b883082",
   "metadata": {},
   "source": [
    "Сделаем таблицу с **коэффициентами** построенной модели."
   ]
  },
  {
   "cell_type": "code",
   "execution_count": 115,
   "id": "f9900fc4",
   "metadata": {},
   "outputs": [],
   "source": [
    "coef = pd.DataFrame({'Coefs' : log_model.coef_[0],\n",
    "                    'Names' : ['MonthsSinceCreation', 'AverageLeadTime', 'BookingsCheckedIn', 'RoomNights',\\\n",
    "                               'SelfBooking', 'SRBathtub', 'SRCrib', 'SRKingSizeBed', 'SRTwinBed']})\n",
    "coef = coef.append({'Coefs' : log_model.intercept_[0],\n",
    "                   'Names' : 'intercept'}, ignore_index = True)\n",
    "coef['Odds coef'] = np.exp(coef['Coefs'])"
   ]
  },
  {
   "cell_type": "code",
   "execution_count": 116,
   "id": "db802b9a",
   "metadata": {},
   "outputs": [
    {
     "data": {
      "text/html": [
       "<div>\n",
       "<style scoped>\n",
       "    .dataframe tbody tr th:only-of-type {\n",
       "        vertical-align: middle;\n",
       "    }\n",
       "\n",
       "    .dataframe tbody tr th {\n",
       "        vertical-align: top;\n",
       "    }\n",
       "\n",
       "    .dataframe thead th {\n",
       "        text-align: right;\n",
       "    }\n",
       "</style>\n",
       "<table border=\"1\" class=\"dataframe\">\n",
       "  <thead>\n",
       "    <tr style=\"text-align: right;\">\n",
       "      <th></th>\n",
       "      <th>Coefs</th>\n",
       "      <th>Names</th>\n",
       "      <th>Odds coef</th>\n",
       "    </tr>\n",
       "  </thead>\n",
       "  <tbody>\n",
       "    <tr>\n",
       "      <th>0</th>\n",
       "      <td>-0.361035</td>\n",
       "      <td>MonthsSinceCreation</td>\n",
       "      <td>0.696954</td>\n",
       "    </tr>\n",
       "    <tr>\n",
       "      <th>1</th>\n",
       "      <td>-0.113998</td>\n",
       "      <td>AverageLeadTime</td>\n",
       "      <td>0.892260</td>\n",
       "    </tr>\n",
       "    <tr>\n",
       "      <th>2</th>\n",
       "      <td>-0.203905</td>\n",
       "      <td>BookingsCheckedIn</td>\n",
       "      <td>0.815540</td>\n",
       "    </tr>\n",
       "    <tr>\n",
       "      <th>3</th>\n",
       "      <td>2.207618</td>\n",
       "      <td>RoomNights</td>\n",
       "      <td>9.094026</td>\n",
       "    </tr>\n",
       "    <tr>\n",
       "      <th>4</th>\n",
       "      <td>0.141021</td>\n",
       "      <td>SelfBooking</td>\n",
       "      <td>1.151449</td>\n",
       "    </tr>\n",
       "    <tr>\n",
       "      <th>5</th>\n",
       "      <td>-0.020832</td>\n",
       "      <td>SRBathtub</td>\n",
       "      <td>0.979383</td>\n",
       "    </tr>\n",
       "    <tr>\n",
       "      <th>6</th>\n",
       "      <td>0.035737</td>\n",
       "      <td>SRCrib</td>\n",
       "      <td>1.036383</td>\n",
       "    </tr>\n",
       "    <tr>\n",
       "      <th>7</th>\n",
       "      <td>0.195117</td>\n",
       "      <td>SRKingSizeBed</td>\n",
       "      <td>1.215453</td>\n",
       "    </tr>\n",
       "    <tr>\n",
       "      <th>8</th>\n",
       "      <td>0.176195</td>\n",
       "      <td>SRTwinBed</td>\n",
       "      <td>1.192670</td>\n",
       "    </tr>\n",
       "    <tr>\n",
       "      <th>9</th>\n",
       "      <td>-0.261211</td>\n",
       "      <td>intercept</td>\n",
       "      <td>0.770118</td>\n",
       "    </tr>\n",
       "  </tbody>\n",
       "</table>\n",
       "</div>"
      ],
      "text/plain": [
       "      Coefs                Names  Odds coef\n",
       "0 -0.361035  MonthsSinceCreation   0.696954\n",
       "1 -0.113998      AverageLeadTime   0.892260\n",
       "2 -0.203905    BookingsCheckedIn   0.815540\n",
       "3  2.207618           RoomNights   9.094026\n",
       "4  0.141021          SelfBooking   1.151449\n",
       "5 -0.020832            SRBathtub   0.979383\n",
       "6  0.035737               SRCrib   1.036383\n",
       "7  0.195117        SRKingSizeBed   1.215453\n",
       "8  0.176195            SRTwinBed   1.192670\n",
       "9 -0.261211            intercept   0.770118"
      ]
     },
     "execution_count": 116,
     "metadata": {},
     "output_type": "execute_result"
    }
   ],
   "source": [
    "coef"
   ]
  },
  {
   "cell_type": "markdown",
   "id": "32f4538e",
   "metadata": {},
   "source": [
    "Мы вывели не только коэффициенты, но и шансы, чтобы было удобнее **интерпретировать** результаты модели. Сильнее всего на вероятность попадания в ту или иную категорию влияет переменная **RoomNights**. \n",
    "- При увеличении количества забронированных ночей на 1 ночь (переменная **RoomNights**), шанс попадания в категорию гостей с суммарными расходами выше среднего увеличивается в 9 раз.\n",
    "- Если гости обычно просят кровать типа king-size или twin bed (переменные **SRKingSizeBed** и **SRTwinBed**), то вероятность того, что они попадут в категорию гостей с суммарными расходами выше среднего увеличивается примерно в 1.2 раза в обоих случаях (по сравнению с ситуацией, когда гости об этом не просят). Это можно объяснить тем, что некоторые гости предъявляют повышенные требования к комфорту / типу мебели в номере, поэтому растет сумма чека.\n",
    "- Также мы видим, что при увеличении возраста аккаунта на 1 месяц (переменная **MonthsSinceCreation**), вероятность попадания в категорию гостей с суммарными расходами выше среднего уменьшается примерно в 1.4 раза (растет в 0.7 раз).\n",
    "- Интересно, что при самостоятельном бронировании (переменная **SelfBooking**) вероятность попадания в категорию гостей с суммарными расходами выше среднего увеличивается в 1.15 раз. Возможно, туроператоры находят более выгодные варианты для гостей, за счет чего им удается немного сэкономить средства."
   ]
  },
  {
   "cell_type": "markdown",
   "id": "bcf2f292",
   "metadata": {},
   "source": [
    "### Метрики качества модели"
   ]
  },
  {
   "cell_type": "markdown",
   "id": "e39b636a",
   "metadata": {},
   "source": [
    "Построим матрицу ошибок."
   ]
  },
  {
   "cell_type": "code",
   "execution_count": 117,
   "id": "ae5f2a9c",
   "metadata": {},
   "outputs": [
    {
     "data": {
      "text/html": [
       "<div>\n",
       "<style scoped>\n",
       "    .dataframe tbody tr th:only-of-type {\n",
       "        vertical-align: middle;\n",
       "    }\n",
       "\n",
       "    .dataframe tbody tr th {\n",
       "        vertical-align: top;\n",
       "    }\n",
       "\n",
       "    .dataframe thead th {\n",
       "        text-align: right;\n",
       "    }\n",
       "</style>\n",
       "<table border=\"1\" class=\"dataframe\">\n",
       "  <thead>\n",
       "    <tr style=\"text-align: right;\">\n",
       "      <th></th>\n",
       "      <th>Negative (0)</th>\n",
       "      <th>Positive (1)</th>\n",
       "    </tr>\n",
       "  </thead>\n",
       "  <tbody>\n",
       "    <tr>\n",
       "      <th>Negative (0)</th>\n",
       "      <td>TN</td>\n",
       "      <td>FP</td>\n",
       "    </tr>\n",
       "    <tr>\n",
       "      <th>Positive (1)</th>\n",
       "      <td>FN</td>\n",
       "      <td>TP</td>\n",
       "    </tr>\n",
       "  </tbody>\n",
       "</table>\n",
       "</div>"
      ],
      "text/plain": [
       "             Negative (0) Positive (1)\n",
       "Negative (0)           TN           FP\n",
       "Positive (1)           FN           TP"
      ]
     },
     "execution_count": 117,
     "metadata": {},
     "output_type": "execute_result"
    }
   ],
   "source": [
    "ex = pd.DataFrame(data = [['TN', 'FP'],['FN', 'TP']], columns = ['Negative (0)', 'Positive (1)'], index = ['Negative (0)', 'Positive (1)'])\n",
    "ex"
   ]
  },
  {
   "cell_type": "markdown",
   "id": "4c2f296b",
   "metadata": {},
   "source": [
    "####  accuracy_score - доля правильных ответов алгоритма\n",
    "\n",
    "$$\n",
    "accuracy = \\frac{TP + TN}{TP + TN + FP + FN}\n",
    "$$"
   ]
  },
  {
   "cell_type": "markdown",
   "id": "70828bff",
   "metadata": {},
   "source": [
    "#### F метрика учитывает FP и FN, она близка к 0, если один из аргументов близок к 0\n",
    "\n",
    "$$\n",
    "F1 = 2 \\cdot \\frac{precision \\cdot recall} {precision + recall}\n",
    "$$"
   ]
  },
  {
   "cell_type": "markdown",
   "id": "e8c21ffa",
   "metadata": {},
   "source": [
    "#### recall (полнота) показывает, какую долю объектов положительного класса из всех объектов положительного класса нашел алгоритм\n",
    "\n",
    "$$\n",
    "recall = \\frac{TP}{TP + FN}\n",
    "$$"
   ]
  },
  {
   "cell_type": "markdown",
   "id": "3e5b01cf",
   "metadata": {},
   "source": [
    "#### precision (точность) - доля объектов, названных классификатором положительными и при этом действительно являющиеся положительными\n",
    "\n",
    "$$\n",
    "precision = \\frac{TP}{TP + FP}\n",
    "$$"
   ]
  },
  {
   "cell_type": "markdown",
   "id": "0215c620",
   "metadata": {},
   "source": [
    "Рассчитаем все метрики для **валидационной выборки**."
   ]
  },
  {
   "cell_type": "code",
   "execution_count": 118,
   "id": "c254666e",
   "metadata": {},
   "outputs": [
    {
     "name": "stdout",
     "output_type": "stream",
     "text": [
      "Accuracy : 0.800725263339665\n",
      "F1_score:  0.7643455176638758\n",
      "Recall:  0.7406015037593985\n",
      "Precision:  0.789662447257384\n"
     ]
    }
   ],
   "source": [
    "print('Accuracy :', accuracy_score(y_valid, y_pred))\n",
    "print('F1_score: ', f1_score(y_valid, y_pred))\n",
    "print('Recall: ', recall_score(y_valid, y_pred))\n",
    "print('Precision: ', precision_score(y_valid, y_pred))"
   ]
  },
  {
   "cell_type": "markdown",
   "id": "31f1b70f",
   "metadata": {},
   "source": [
    "Как мы можем видеть, модель получилась среднего качества.\n",
    "- Доля правильных ответов алгоритма (accuracy) - 80%.\n",
    "- Из всех объектов положительного класса (люди с суммарными доходами выше среднего) алгоритм нашел 74% объекта положительного класса.\n",
    "- Практически 79% объектов, которых модель назвала положительными, действительно являются положительными (действительно принадлежат к гостям с суммарными доходами выше среднего)."
   ]
  },
  {
   "cell_type": "markdown",
   "id": "68239880",
   "metadata": {},
   "source": [
    "Рассчитаем все метрики для **тренировочной выборки**."
   ]
  },
  {
   "cell_type": "code",
   "execution_count": 119,
   "id": "1365440e",
   "metadata": {},
   "outputs": [
    {
     "name": "stdout",
     "output_type": "stream",
     "text": [
      "Accuracy : 0.7962914993740017\n",
      "F1_score:  0.7592786266357167\n",
      "Recall:  0.7330443776781757\n",
      "Precision:  0.7874603174603174\n"
     ]
    }
   ],
   "source": [
    "print('Accuracy :', accuracy_score(y_train, log_model.predict(X_train_scaled)))\n",
    "print('F1_score: ', f1_score(y_train, log_model.predict(X_train_scaled)))\n",
    "print('Recall: ', recall_score(y_train, log_model.predict(X_train_scaled)))\n",
    "print('Precision: ', precision_score(y_train, log_model.predict(X_train_scaled)))"
   ]
  },
  {
   "cell_type": "markdown",
   "id": "e89fd26c",
   "metadata": {},
   "source": [
    "На тестовой выборке метрики качества чуть ниже, чем на валидационной, что в целом нормально."
   ]
  },
  {
   "cell_type": "markdown",
   "id": "9a9706af",
   "metadata": {},
   "source": [
    "Выведем **матрицу ошибок**."
   ]
  },
  {
   "cell_type": "code",
   "execution_count": 120,
   "id": "eb21ff93",
   "metadata": {},
   "outputs": [
    {
     "data": {
      "text/plain": [
       "<sklearn.metrics._plot.confusion_matrix.ConfusionMatrixDisplay at 0x276069e84f0>"
      ]
     },
     "execution_count": 120,
     "metadata": {},
     "output_type": "execute_result"
    },
    {
     "data": {
      "image/png": "[encoded data removed]",
      "text/plain": [
       "<Figure size 432x288 with 2 Axes>"
      ]
     },
     "metadata": {
      "needs_background": "light"
     },
     "output_type": "display_data"
    }
   ],
   "source": [
    "plot_confusion_matrix(log_model, X_valid_scaled, y_valid)"
   ]
  },
  {
   "cell_type": "markdown",
   "id": "af6a3333",
   "metadata": {},
   "source": [
    "Как мы можем видеть, модель верно определила 5531 гостя с расходами выше среднего и 3743 гостя с расходами ниже среднего, при этом 997 людей ошибочно оказались в категории расходов выше среднего, а 1311 людей - в категории расходов ниже среднего (тоже ошибочно)."
   ]
  },
  {
   "cell_type": "markdown",
   "id": "7e9d1544",
   "metadata": {},
   "source": [
    "### ROC-кривая"
   ]
  },
  {
   "cell_type": "markdown",
   "id": "0c947e65",
   "metadata": {},
   "source": [
    "Построим **ROC-кривую** (кривая ошибок). Она отражает взаимосвязь между чувствительностью модели (TPR - true positive rate) и ее специфичностью (FPR - false positive rate)."
   ]
  },
  {
   "cell_type": "markdown",
   "id": "3b3d61a9",
   "metadata": {},
   "source": [
    "$$\n",
    "TPR = \\frac {TP} {TP + FN}\n",
    "$$\n",
    "\n",
    "$$\n",
    "TPR = \\frac {TP} {TP + FN}\n",
    "$$"
   ]
  },
  {
   "cell_type": "code",
   "execution_count": 121,
   "id": "e5f4ab59",
   "metadata": {},
   "outputs": [
    {
     "data": {
      "text/plain": [
       "<sklearn.metrics._plot.roc_curve.RocCurveDisplay at 0x2760ab34b50>"
      ]
     },
     "execution_count": 121,
     "metadata": {},
     "output_type": "execute_result"
    },
    {
     "data": {
      "image/png": "[encoded data removed]",
      "text/plain": [
       "<Figure size 432x288 with 1 Axes>"
      ]
     },
     "metadata": {
      "needs_background": "light"
     },
     "output_type": "display_data"
    }
   ],
   "source": [
    "plot_roc_curve(log_model, X_valid_scaled, y_valid)"
   ]
  },
  {
   "cell_type": "code",
   "execution_count": 122,
   "id": "e9bbc8f9",
   "metadata": {},
   "outputs": [
    {
     "data": {
      "text/plain": [
       "<sklearn.metrics._plot.roc_curve.RocCurveDisplay at 0x276088a53a0>"
      ]
     },
     "execution_count": 122,
     "metadata": {},
     "output_type": "execute_result"
    },
    {
     "data": {
      "image/png": "[encoded data removed]",
      "text/plain": [
       "<Figure size 432x288 with 1 Axes>"
      ]
     },
     "metadata": {
      "needs_background": "light"
     },
     "output_type": "display_data"
    }
   ],
   "source": [
    "plot_roc_curve(log_model, X_train_scaled, y_train)"
   ]
  },
  {
   "cell_type": "markdown",
   "id": "f87a1ead",
   "metadata": {},
   "source": [
    "Как мы можем видеть, **AUC (area under curve)** и в случае валидационной, и в случае тренировочной выборки составляет 0.87. Это в целом неплохой показатель."
   ]
  },
  {
   "cell_type": "markdown",
   "id": "c73394fe",
   "metadata": {},
   "source": [
    "## ~ The End ~"
   ]
  }
 ],
 "metadata": {
  "kernelspec": {
   "display_name": "Python 3 (ipykernel)",
   "language": "python",
   "name": "python3"
  },
  "language_info": {
   "codemirror_mode": {
    "name": "ipython",
    "version": 3
   },
   "file_extension": ".py",
   "mimetype": "text/x-python",
   "name": "python",
   "nbconvert_exporter": "python",
   "pygments_lexer": "ipython3",
   "version": "3.9.12"
  }
 },
 "nbformat": 4,
 "nbformat_minor": 5
}
